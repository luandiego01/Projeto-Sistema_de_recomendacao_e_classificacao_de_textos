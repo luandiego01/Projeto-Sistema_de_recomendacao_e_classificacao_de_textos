{
 "cells": [
  {
   "cell_type": "markdown",
   "id": "bd1ee29a",
   "metadata": {},
   "source": [
    "### Processamento, sistema de recomendação e classificação de textos\n",
    "\n",
    "Nosso objetivo nesse notebook é fazer três coisas:\n",
    "\n",
    "__1 - Falar sobre pré-processamento que podemos fazer em textos incluindo a criação de uma classe que faz todo o pré-processamento, redimensionamento e clusterização de textos__\n",
    "\n",
    "__2 - Criar um sistema de recomendação de textos, onde o usuário vai entrar com um dos temas pré definidos:__\n",
    "\n",
    "- Technology\n",
    "- Sports\n",
    "- Politics\n",
    "\n",
    "__E o sistema vai recomendar um texto de uma das categórias baseado na clusterização feita antes, além disso conseguiremos alimentar o sistema com uma tabela de usuário x item, na qual pode ser usada em um futuro para outras tecnicas de sistema de recomendações__\n",
    "\n",
    "Aqui faremos um sistema simples, mas que já da pra entender a ideia principal e que pode ser pensando e melhorado para determinado tipos de situações.\n",
    "\n",
    "__3 - Com base na clusterização feita inicialmente, criar uma função que permite o usuário colocar um texto e a função nos retorna a classificação, se aquele texto é sobre esportes, politica ou tecnologia.__\n",
    "\n",
    "Ainda nesse notebook, salvaremos os modelos usados e o dataset para conseguir colocar o sistema de recomendação e classificação em produção."
   ]
  },
  {
   "cell_type": "code",
   "execution_count": 1,
   "id": "31db529e",
   "metadata": {},
   "outputs": [],
   "source": [
    "# importando as biblitecas necessárias inicialmente\n",
    "\n",
    "import re\n",
    "import os\n",
    "import emoji\n",
    "import spacy\n",
    "import string\n",
    "import requests\n",
    "import numpy as np\n",
    "import pandas as pd\n",
    "import matplotlib.pyplot as plt\n",
    "from bs4 import BeautifulSoup\n",
    "from nltk.stem.porter import PorterStemmer\n",
    "from sklearn.feature_extraction.text import ENGLISH_STOP_WORDS"
   ]
  },
  {
   "cell_type": "markdown",
   "id": "1a41c470",
   "metadata": {},
   "source": [
    "Iremos aqui fazer um Webscrapping no site https://inshorts.com/, nele temos varias pequenas materias sobre vários temas, para nosso exemplo, escolheremos três temas bem distintos e trabalharemos com eles."
   ]
  },
  {
   "cell_type": "code",
   "execution_count": 2,
   "id": "260b65c5",
   "metadata": {},
   "outputs": [],
   "source": [
    "seed_urls = ['https://inshorts.com/en/read/technology',\n",
    "             'https://inshorts.com/en/read/sports',\n",
    "             'https://inshorts.com/en/read/politics' ]\n",
    "\n",
    "def build_dataset(seed_urls):\n",
    "    news_data = []\n",
    "    for url in seed_urls:\n",
    "        news_category = url.split('/')[-1]\n",
    "        data = requests.get(url)\n",
    "        soup = BeautifulSoup(data.content, 'html.parser')\n",
    "        \n",
    "        news_articles = [{'news_headline': headline.find('span', \n",
    "                                                         attrs={\"itemprop\": \"headline\"}).string,\n",
    "                          'news_article': article.find('div', \n",
    "                                                       attrs={\"itemprop\": \"articleBody\"}).string,\n",
    "                          'news_category': news_category}\n",
    "                         \n",
    "                            for headline, article in \n",
    "                             zip(soup.find_all('div', \n",
    "                                               class_=[\"news-card-title news-right-box\"]),\n",
    "                                 soup.find_all('div', \n",
    "                                               class_=[\"news-card-content news-right-box\"]))\n",
    "                        ]\n",
    "        news_data.extend(news_articles)\n",
    "        \n",
    "    df =  pd.DataFrame(news_data)\n",
    "    df = df[['news_headline', 'news_article', 'news_category']]\n",
    "    return df"
   ]
  },
  {
   "cell_type": "code",
   "execution_count": 3,
   "id": "2c626ab2",
   "metadata": {},
   "outputs": [
    {
     "data": {
      "text/html": [
       "<div>\n",
       "<style scoped>\n",
       "    .dataframe tbody tr th:only-of-type {\n",
       "        vertical-align: middle;\n",
       "    }\n",
       "\n",
       "    .dataframe tbody tr th {\n",
       "        vertical-align: top;\n",
       "    }\n",
       "\n",
       "    .dataframe thead th {\n",
       "        text-align: right;\n",
       "    }\n",
       "</style>\n",
       "<table border=\"1\" class=\"dataframe\">\n",
       "  <thead>\n",
       "    <tr style=\"text-align: right;\">\n",
       "      <th></th>\n",
       "      <th>news_headline</th>\n",
       "      <th>news_article</th>\n",
       "      <th>news_category</th>\n",
       "    </tr>\n",
       "  </thead>\n",
       "  <tbody>\n",
       "    <tr>\n",
       "      <th>0</th>\n",
       "      <td>OPPO to unveil Reno6 Pro 5G with Bokeh Flare P...</td>\n",
       "      <td>OPPO is set to launch the Reno6 Pro 5G equippe...</td>\n",
       "      <td>technology</td>\n",
       "    </tr>\n",
       "    <tr>\n",
       "      <th>1</th>\n",
       "      <td>Have to be CEO or Tesla would die: Elon Musk t...</td>\n",
       "      <td>During a US trial over SolarCity's acquisition...</td>\n",
       "      <td>technology</td>\n",
       "    </tr>\n",
       "    <tr>\n",
       "      <th>2</th>\n",
       "      <td>Elon Musk pays $10,000 deposit to Virgin Galac...</td>\n",
       "      <td>SpaceX CEO Elon Musk has paid a $10,000 (aroun...</td>\n",
       "      <td>technology</td>\n",
       "    </tr>\n",
       "    <tr>\n",
       "      <th>3</th>\n",
       "      <td>'Google constantly listens to your conversatio...</td>\n",
       "      <td>Google in a Facebook post called the notion ab...</td>\n",
       "      <td>technology</td>\n",
       "    </tr>\n",
       "    <tr>\n",
       "      <th>4</th>\n",
       "      <td>Google fined ₹4,400 crore by France over news ...</td>\n",
       "      <td>Google has been fined €500 million (over ₹4,40...</td>\n",
       "      <td>technology</td>\n",
       "    </tr>\n",
       "    <tr>\n",
       "      <th>...</th>\n",
       "      <td>...</td>\n",
       "      <td>...</td>\n",
       "      <td>...</td>\n",
       "    </tr>\n",
       "    <tr>\n",
       "      <th>70</th>\n",
       "      <td>Congress will emerge number one party in Mahar...</td>\n",
       "      <td>Maharashtra Congress chief Nana Patole said hi...</td>\n",
       "      <td>politics</td>\n",
       "    </tr>\n",
       "    <tr>\n",
       "      <th>71</th>\n",
       "      <td>Centre's inept management of economy caused in...</td>\n",
       "      <td>Criticising the Centre over the rising prices ...</td>\n",
       "      <td>politics</td>\n",
       "    </tr>\n",
       "    <tr>\n",
       "      <th>72</th>\n",
       "      <td>K'taka CM is a mouse: Siddaramaiah over bank e...</td>\n",
       "      <td>Congress leader Siddaramaiah on Tuesday demand...</td>\n",
       "      <td>politics</td>\n",
       "    </tr>\n",
       "    <tr>\n",
       "      <th>73</th>\n",
       "      <td>Modi govt is least concerned in protecting peo...</td>\n",
       "      <td>Citing a slow vaccination rate, CPI(M) General...</td>\n",
       "      <td>politics</td>\n",
       "    </tr>\n",
       "    <tr>\n",
       "      <th>74</th>\n",
       "      <td>Telangana Congress leader Kaushik Reddy expell...</td>\n",
       "      <td>Congress leader Padi Kaushik Reddy has been ex...</td>\n",
       "      <td>politics</td>\n",
       "    </tr>\n",
       "  </tbody>\n",
       "</table>\n",
       "<p>75 rows × 3 columns</p>\n",
       "</div>"
      ],
      "text/plain": [
       "                                        news_headline  \\\n",
       "0   OPPO to unveil Reno6 Pro 5G with Bokeh Flare P...   \n",
       "1   Have to be CEO or Tesla would die: Elon Musk t...   \n",
       "2   Elon Musk pays $10,000 deposit to Virgin Galac...   \n",
       "3   'Google constantly listens to your conversatio...   \n",
       "4   Google fined ₹4,400 crore by France over news ...   \n",
       "..                                                ...   \n",
       "70  Congress will emerge number one party in Mahar...   \n",
       "71  Centre's inept management of economy caused in...   \n",
       "72  K'taka CM is a mouse: Siddaramaiah over bank e...   \n",
       "73  Modi govt is least concerned in protecting peo...   \n",
       "74  Telangana Congress leader Kaushik Reddy expell...   \n",
       "\n",
       "                                         news_article news_category  \n",
       "0   OPPO is set to launch the Reno6 Pro 5G equippe...    technology  \n",
       "1   During a US trial over SolarCity's acquisition...    technology  \n",
       "2   SpaceX CEO Elon Musk has paid a $10,000 (aroun...    technology  \n",
       "3   Google in a Facebook post called the notion ab...    technology  \n",
       "4   Google has been fined €500 million (over ₹4,40...    technology  \n",
       "..                                                ...           ...  \n",
       "70  Maharashtra Congress chief Nana Patole said hi...      politics  \n",
       "71  Criticising the Centre over the rising prices ...      politics  \n",
       "72  Congress leader Siddaramaiah on Tuesday demand...      politics  \n",
       "73  Citing a slow vaccination rate, CPI(M) General...      politics  \n",
       "74  Congress leader Padi Kaushik Reddy has been ex...      politics  \n",
       "\n",
       "[75 rows x 3 columns]"
      ]
     },
     "execution_count": 3,
     "metadata": {},
     "output_type": "execute_result"
    }
   ],
   "source": [
    "# construndo o dataset com a função acima\n",
    "\n",
    "news_df = build_dataset(seed_urls)\n",
    "news_df"
   ]
  },
  {
   "cell_type": "markdown",
   "id": "c39cb3ca",
   "metadata": {},
   "source": [
    "A função que vamos usar abaixo faz duas coisas:\n",
    "\n",
    "- pré-processamento padrão, retirando stopwwords, emojis, números e etc\n",
    "- tokenização do texto, isto é colocar todo o texto separado por palavras em uma lista."
   ]
  },
  {
   "cell_type": "code",
   "execution_count": 4,
   "id": "5afe930b",
   "metadata": {},
   "outputs": [],
   "source": [
    "def preprocess_text(text, remove_stop = True, stem_words = False, remove_mentions_hashtags = True):\n",
    "    \"\"\"\n",
    "    eg:\n",
    "    input: preprocess_text(\"@water #dream hi hello where are you going be there tomorrow happening happen happens\",  \n",
    "    stem_words = True) \n",
    "    output: ['tomorrow', 'happen', 'go', 'hello']\n",
    "    \"\"\"\n",
    "\n",
    "    # Remove emojis\n",
    "    emoji_pattern = re.compile(\"[\" \"\\U0001F1E0-\\U0001F6FF\" \"]+\", flags=re.UNICODE)\n",
    "    text = emoji_pattern.sub(r\"\", text)\n",
    "    text = \"\".join([x for x in text if x not in emoji.UNICODE_EMOJI])\n",
    "\n",
    "    if remove_mentions_hashtags:\n",
    "        text = re.sub(r\"@(\\w+)\", \" \", text)\n",
    "        text = re.sub(r\"#(\\w+)\", \" \", text)\n",
    "\n",
    "    text = re.sub(r\"[^\\x00-\\x7F]+\", \" \", text)\n",
    "    regex = re.compile('[' + re.escape(string.punctuation) + '0-9\\\\r\\\\t\\\\n]') # remove punctuation and numbers\n",
    "    nopunct = regex.sub(\" \", text.lower())\n",
    "    words = (''.join(nopunct)).split()\n",
    "\n",
    "    if(remove_stop):\n",
    "        words = [w for w in words if w not in ENGLISH_STOP_WORDS]\n",
    "        words = [w for w in words if len(w) > 2]  # remove a,an,of etc.\n",
    "\n",
    "    if(stem_words):\n",
    "        stemmer = PorterStemmer()\n",
    "        words = [stemmer.stem(w) for w in words]\n",
    "\n",
    "    return list(words)"
   ]
  },
  {
   "cell_type": "code",
   "execution_count": 5,
   "id": "386f203d",
   "metadata": {},
   "outputs": [],
   "source": [
    "rows, cols = news_df.shape"
   ]
  },
  {
   "cell_type": "code",
   "execution_count": 6,
   "id": "78392845",
   "metadata": {},
   "outputs": [],
   "source": [
    "news_df1 = news_df.copy() # criando uma copia para o caso de ser necessário o uso do dataset em sua primeira versão\n",
    "\n",
    "news_df['token'] = [preprocess_text(news_df[\"news_article\"][row]) for row in range(rows)]"
   ]
  },
  {
   "cell_type": "code",
   "execution_count": 7,
   "id": "cce22769",
   "metadata": {},
   "outputs": [
    {
     "data": {
      "text/html": [
       "<div>\n",
       "<style scoped>\n",
       "    .dataframe tbody tr th:only-of-type {\n",
       "        vertical-align: middle;\n",
       "    }\n",
       "\n",
       "    .dataframe tbody tr th {\n",
       "        vertical-align: top;\n",
       "    }\n",
       "\n",
       "    .dataframe thead th {\n",
       "        text-align: right;\n",
       "    }\n",
       "</style>\n",
       "<table border=\"1\" class=\"dataframe\">\n",
       "  <thead>\n",
       "    <tr style=\"text-align: right;\">\n",
       "      <th></th>\n",
       "      <th>news_headline</th>\n",
       "      <th>news_article</th>\n",
       "      <th>news_category</th>\n",
       "      <th>token</th>\n",
       "    </tr>\n",
       "  </thead>\n",
       "  <tbody>\n",
       "    <tr>\n",
       "      <th>0</th>\n",
       "      <td>OPPO to unveil Reno6 Pro 5G with Bokeh Flare P...</td>\n",
       "      <td>OPPO is set to launch the Reno6 Pro 5G equippe...</td>\n",
       "      <td>technology</td>\n",
       "      <td>[oppo, set, launch, reno, pro, equipped, bokeh...</td>\n",
       "    </tr>\n",
       "    <tr>\n",
       "      <th>1</th>\n",
       "      <td>Have to be CEO or Tesla would die: Elon Musk t...</td>\n",
       "      <td>During a US trial over SolarCity's acquisition...</td>\n",
       "      <td>technology</td>\n",
       "      <td>[trial, solarcity, acquisition, billionaire, e...</td>\n",
       "    </tr>\n",
       "    <tr>\n",
       "      <th>2</th>\n",
       "      <td>Elon Musk pays $10,000 deposit to Virgin Galac...</td>\n",
       "      <td>SpaceX CEO Elon Musk has paid a $10,000 (aroun...</td>\n",
       "      <td>technology</td>\n",
       "      <td>[spacex, ceo, elon, musk, paid, lakh, deposit,...</td>\n",
       "    </tr>\n",
       "    <tr>\n",
       "      <th>3</th>\n",
       "      <td>'Google constantly listens to your conversatio...</td>\n",
       "      <td>Google in a Facebook post called the notion ab...</td>\n",
       "      <td>technology</td>\n",
       "      <td>[google, facebook, post, called, notion, compa...</td>\n",
       "    </tr>\n",
       "    <tr>\n",
       "      <th>4</th>\n",
       "      <td>Google fined ₹4,400 crore by France over news ...</td>\n",
       "      <td>Google has been fined €500 million (over ₹4,40...</td>\n",
       "      <td>technology</td>\n",
       "      <td>[google, fined, million, crore, france, news, ...</td>\n",
       "    </tr>\n",
       "    <tr>\n",
       "      <th>...</th>\n",
       "      <td>...</td>\n",
       "      <td>...</td>\n",
       "      <td>...</td>\n",
       "      <td>...</td>\n",
       "    </tr>\n",
       "    <tr>\n",
       "      <th>70</th>\n",
       "      <td>Congress will emerge number one party in Mahar...</td>\n",
       "      <td>Maharashtra Congress chief Nana Patole said hi...</td>\n",
       "      <td>politics</td>\n",
       "      <td>[maharashtra, congress, chief, nana, patole, s...</td>\n",
       "    </tr>\n",
       "    <tr>\n",
       "      <th>71</th>\n",
       "      <td>Centre's inept management of economy caused in...</td>\n",
       "      <td>Criticising the Centre over the rising prices ...</td>\n",
       "      <td>politics</td>\n",
       "      <td>[criticising, centre, rising, prices, fuel, co...</td>\n",
       "    </tr>\n",
       "    <tr>\n",
       "      <th>72</th>\n",
       "      <td>K'taka CM is a mouse: Siddaramaiah over bank e...</td>\n",
       "      <td>Congress leader Siddaramaiah on Tuesday demand...</td>\n",
       "      <td>politics</td>\n",
       "      <td>[congress, leader, siddaramaiah, tuesday, dema...</td>\n",
       "    </tr>\n",
       "    <tr>\n",
       "      <th>73</th>\n",
       "      <td>Modi govt is least concerned in protecting peo...</td>\n",
       "      <td>Citing a slow vaccination rate, CPI(M) General...</td>\n",
       "      <td>politics</td>\n",
       "      <td>[citing, slow, vaccination, rate, cpi, general...</td>\n",
       "    </tr>\n",
       "    <tr>\n",
       "      <th>74</th>\n",
       "      <td>Telangana Congress leader Kaushik Reddy expell...</td>\n",
       "      <td>Congress leader Padi Kaushik Reddy has been ex...</td>\n",
       "      <td>politics</td>\n",
       "      <td>[congress, leader, padi, kaushik, reddy, expel...</td>\n",
       "    </tr>\n",
       "  </tbody>\n",
       "</table>\n",
       "<p>75 rows × 4 columns</p>\n",
       "</div>"
      ],
      "text/plain": [
       "                                        news_headline  \\\n",
       "0   OPPO to unveil Reno6 Pro 5G with Bokeh Flare P...   \n",
       "1   Have to be CEO or Tesla would die: Elon Musk t...   \n",
       "2   Elon Musk pays $10,000 deposit to Virgin Galac...   \n",
       "3   'Google constantly listens to your conversatio...   \n",
       "4   Google fined ₹4,400 crore by France over news ...   \n",
       "..                                                ...   \n",
       "70  Congress will emerge number one party in Mahar...   \n",
       "71  Centre's inept management of economy caused in...   \n",
       "72  K'taka CM is a mouse: Siddaramaiah over bank e...   \n",
       "73  Modi govt is least concerned in protecting peo...   \n",
       "74  Telangana Congress leader Kaushik Reddy expell...   \n",
       "\n",
       "                                         news_article news_category  \\\n",
       "0   OPPO is set to launch the Reno6 Pro 5G equippe...    technology   \n",
       "1   During a US trial over SolarCity's acquisition...    technology   \n",
       "2   SpaceX CEO Elon Musk has paid a $10,000 (aroun...    technology   \n",
       "3   Google in a Facebook post called the notion ab...    technology   \n",
       "4   Google has been fined €500 million (over ₹4,40...    technology   \n",
       "..                                                ...           ...   \n",
       "70  Maharashtra Congress chief Nana Patole said hi...      politics   \n",
       "71  Criticising the Centre over the rising prices ...      politics   \n",
       "72  Congress leader Siddaramaiah on Tuesday demand...      politics   \n",
       "73  Citing a slow vaccination rate, CPI(M) General...      politics   \n",
       "74  Congress leader Padi Kaushik Reddy has been ex...      politics   \n",
       "\n",
       "                                                token  \n",
       "0   [oppo, set, launch, reno, pro, equipped, bokeh...  \n",
       "1   [trial, solarcity, acquisition, billionaire, e...  \n",
       "2   [spacex, ceo, elon, musk, paid, lakh, deposit,...  \n",
       "3   [google, facebook, post, called, notion, compa...  \n",
       "4   [google, fined, million, crore, france, news, ...  \n",
       "..                                                ...  \n",
       "70  [maharashtra, congress, chief, nana, patole, s...  \n",
       "71  [criticising, centre, rising, prices, fuel, co...  \n",
       "72  [congress, leader, siddaramaiah, tuesday, dema...  \n",
       "73  [citing, slow, vaccination, rate, cpi, general...  \n",
       "74  [congress, leader, padi, kaushik, reddy, expel...  \n",
       "\n",
       "[75 rows x 4 columns]"
      ]
     },
     "execution_count": 7,
     "metadata": {},
     "output_type": "execute_result"
    }
   ],
   "source": [
    "# visualizando o dataset criado\n",
    "\n",
    "news_df"
   ]
  },
  {
   "cell_type": "markdown",
   "id": "a78756d1",
   "metadata": {},
   "source": [
    "Vamos comparar o primeiro texto do dataset antes e depois do pré-processamento:"
   ]
  },
  {
   "cell_type": "code",
   "execution_count": 8,
   "id": "1fc41776",
   "metadata": {},
   "outputs": [
    {
     "data": {
      "text/plain": [
       "'OPPO is set to launch the Reno6 Pro 5G equipped with Bokeh Flare Portrait Video and AI Highlight Video today. Featuring Reno Glow design, the device has a sleek 7.6 mm body and weighs 177g. Powered by MediaTek Dimensity 1200 5G chipset, OPPO Reno6 Pro 5G comes with 65W SuperVOOC 2.0 flash charging along with 12 GB RAM/256GB ROM.'"
      ]
     },
     "execution_count": 8,
     "metadata": {},
     "output_type": "execute_result"
    }
   ],
   "source": [
    "news_df['news_article'][0]"
   ]
  },
  {
   "cell_type": "code",
   "execution_count": 9,
   "id": "8b0d246b",
   "metadata": {},
   "outputs": [
    {
     "name": "stdout",
     "output_type": "stream",
     "text": [
      "['oppo', 'set', 'launch', 'reno', 'pro', 'equipped', 'bokeh', 'flare', 'portrait', 'video', 'highlight', 'video', 'today', 'featuring', 'reno', 'glow', 'design', 'device', 'sleek', 'body', 'weighs', 'powered', 'mediatek', 'dimensity', 'chipset', 'oppo', 'reno', 'pro', 'comes', 'supervooc', 'flash', 'charging', 'ram', 'rom']\n"
     ]
    }
   ],
   "source": [
    "print(news_df['token'][0])"
   ]
  },
  {
   "cell_type": "markdown",
   "id": "8767e149",
   "metadata": {},
   "source": [
    "### Vetorização\n",
    "\n",
    "O próximo passo vai ser a vetorização dos nossos textos, a biblioteca que nos permite fazer isso de maneira eficiente é a spacy:\n",
    "\n",
    "[Documentação spacy](https://spacy.io/usage)"
   ]
  },
  {
   "cell_type": "code",
   "execution_count": 10,
   "id": "2f0d01bc",
   "metadata": {},
   "outputs": [],
   "source": [
    "nlp = spacy.load('en_core_web_md')\n",
    "\n",
    "# definindo função que retorna os vetores para cada palavra:\n",
    "\n",
    "def vec(s):\n",
    "    return nlp.vocab[s].vector\n"
   ]
  },
  {
   "cell_type": "markdown",
   "id": "a0c90145",
   "metadata": {},
   "source": [
    "Para entender um pouco o que a vetorização está fazendo, vamos pegar a primeira palavra do primeiro texto do dataset"
   ]
  },
  {
   "cell_type": "code",
   "execution_count": 11,
   "id": "6e1c7eb7",
   "metadata": {},
   "outputs": [
    {
     "data": {
      "text/plain": [
       "array([ 4.8122e-01, -3.4156e-01,  2.5055e-01, -1.2869e-01,  3.0904e-01,\n",
       "        1.2785e-01,  5.5803e-01, -4.0335e-01,  6.0365e-01, -1.0976e+00,\n",
       "        4.6971e-01, -2.5408e-02, -3.0179e-01,  4.8732e-01, -7.1632e-01,\n",
       "       -4.5834e-01, -2.1862e-01,  9.2675e-01, -2.2514e-01,  1.0327e-01,\n",
       "        3.5902e-01,  4.2469e-01,  3.3406e-01, -3.2914e-01, -5.3178e-01,\n",
       "       -3.4726e-01, -1.5614e-01,  3.3155e-01,  2.0251e-01,  6.9007e-01,\n",
       "        7.1690e-02,  5.3077e-01, -2.6656e-02,  7.8344e-01, -5.7075e-01,\n",
       "       -9.5807e-02, -2.4139e-01,  1.8487e-01, -1.7358e-01, -5.5126e-01,\n",
       "        1.8681e-01,  2.9716e-03, -1.0152e-01, -1.9160e-01,  3.3456e-01,\n",
       "        1.4489e-01, -2.0290e-02,  2.5225e-01, -1.1948e+00, -3.1393e-01,\n",
       "       -7.4038e-02,  1.7581e-01,  1.3460e-01, -2.4418e-01,  4.1809e-01,\n",
       "        2.0013e-01, -3.4472e-01,  2.1593e-02, -1.6560e-01, -3.0194e-02,\n",
       "       -2.0991e-01,  3.3547e-01,  4.9582e-01,  5.6859e-02,  2.1829e-01,\n",
       "       -6.0410e-01,  3.5239e-01, -1.8470e-01, -7.3093e-01, -3.4034e-01,\n",
       "        4.7636e-01,  3.4803e-01,  2.4832e-01,  1.2063e-03,  2.0067e-01,\n",
       "       -2.5457e-02,  4.6405e-01,  2.3531e-01,  2.1682e-01,  5.7696e-01,\n",
       "       -2.0371e-02,  2.5787e-01,  6.7906e-01, -8.2982e-02, -7.8856e-01,\n",
       "        4.0299e-02,  8.7053e-01,  4.4445e-01,  1.6836e+00, -3.6896e-01,\n",
       "        1.7070e-01, -5.0053e-01, -2.8361e-01, -7.1194e-01,  1.1976e-01,\n",
       "       -5.1247e-02,  2.3188e-01, -3.1874e-01,  3.0996e-01,  6.5201e-01,\n",
       "       -1.3264e-01, -3.5198e-01,  1.2208e-01, -4.8619e-01, -2.3189e-01,\n",
       "       -1.5464e+00,  4.1437e-01,  2.1162e-01,  3.4382e-01, -5.0459e-02,\n",
       "       -5.4019e-01, -5.7713e-01, -1.7670e-01, -7.4721e-01,  1.2232e+00,\n",
       "        3.8286e-01, -1.9173e-01,  2.1746e-01,  6.0993e-01,  4.3952e-01,\n",
       "       -2.1687e-01, -4.5490e-01,  9.4361e-01, -5.1127e-01,  3.0734e-01,\n",
       "       -4.7374e-01, -5.9476e-02,  1.0405e-01,  7.6678e-01, -3.5265e-01,\n",
       "        2.5061e-01,  1.8858e-01, -2.4470e-01,  2.6522e-01,  3.0583e-01,\n",
       "        2.5140e-01,  3.4566e-01,  1.7911e-01, -5.8419e-01, -8.9081e-01,\n",
       "       -1.3460e+00,  6.2108e-02,  1.8637e-01, -1.4128e-02, -4.2223e-01,\n",
       "        5.0220e-01,  2.1115e-01, -3.1813e-01, -1.0930e-01, -8.7959e-02,\n",
       "        2.3516e-01, -6.4822e-01,  1.1657e-01,  3.6904e-01, -2.9031e-01,\n",
       "       -6.6361e-01,  2.1590e-01,  2.4310e-01,  1.0942e-02,  6.8688e-01,\n",
       "        6.6210e-02,  5.4699e-01,  5.0136e-01,  2.4232e-01, -5.9278e-01,\n",
       "       -1.4699e-01,  2.8008e-01,  1.1477e-01, -6.6079e-01,  1.2401e-01,\n",
       "       -9.2786e-01,  4.7404e-01,  2.2099e-01,  4.5808e-01, -9.7203e-02,\n",
       "       -1.6872e-01,  1.1114e-01,  4.1792e-01, -1.7370e-01,  2.8978e-01,\n",
       "       -6.3100e-02, -2.7625e-01,  1.1480e-01, -7.3601e-02,  3.8742e-01,\n",
       "       -5.7059e-01,  2.5651e-01,  3.4382e-01,  3.9403e-01, -2.1398e-02,\n",
       "        2.7587e-01,  6.0143e-02, -1.3601e-01, -1.1976e-01,  2.8353e-02,\n",
       "       -5.9853e-01, -1.3626e-01, -6.8659e-01,  2.2269e-01, -1.1831e-01,\n",
       "        2.6625e-01,  4.7805e-01, -6.2958e-02, -2.4369e-01, -9.4775e-02,\n",
       "        2.4837e-02, -3.9537e-01, -1.0789e-02,  4.6803e-01,  3.1512e-01,\n",
       "       -5.0257e-01,  2.3987e-01, -4.3050e-01, -4.6262e-01, -2.7144e-01,\n",
       "       -9.1086e-01,  8.2073e-02, -1.4456e-01, -2.7245e-01, -3.4378e-01,\n",
       "       -9.6899e-01, -7.0013e-01, -2.7721e-01, -4.6972e-01, -1.4395e-01,\n",
       "       -5.9295e-02,  5.2173e-01, -2.8643e-01,  2.0898e-01,  1.8959e-01,\n",
       "       -1.1229e+00, -6.1359e-01,  7.2645e-01,  6.1194e-01, -1.8884e-01,\n",
       "       -7.2010e-02, -8.4002e-02,  1.5007e-03, -2.8945e-01,  9.1819e-01,\n",
       "        5.0196e-01, -3.6597e-01,  7.2767e-01,  4.0574e-01,  2.8555e-02,\n",
       "       -2.6017e-01,  3.7523e-01,  8.9992e-02, -2.1335e-01, -1.9739e-01,\n",
       "        2.5676e-02,  8.2374e-01,  3.1366e-01, -4.4468e-01,  6.0652e-01,\n",
       "       -5.9773e-01, -8.4970e-03,  4.6657e-01, -6.4679e-01, -7.4426e-01,\n",
       "        1.4414e-01, -1.7946e-01,  2.2512e-01, -8.1440e-01, -1.1767e-01,\n",
       "       -4.6078e-01, -1.8510e-01,  2.5217e-01, -3.0257e-01, -1.8849e-01,\n",
       "       -7.4145e-01,  1.0645e+00,  2.0668e-01,  8.9896e-01,  2.0295e-01,\n",
       "        2.2989e-02, -5.5692e-01, -4.3217e-02, -5.1421e-01,  3.6364e-02,\n",
       "       -3.3316e-01,  5.2505e-01,  4.4299e-01,  1.3717e-01,  6.4689e-01,\n",
       "       -3.3413e-01, -1.9708e-01,  1.0566e-01,  5.2011e-01,  2.4026e-01,\n",
       "       -1.0935e+00, -1.9380e-01, -5.6051e-01, -3.2643e-01,  3.5293e-01,\n",
       "       -1.5816e-01,  7.5524e-02, -7.0495e-02, -5.2825e-01,  2.8220e-01],\n",
       "      dtype=float32)"
      ]
     },
     "execution_count": 11,
     "metadata": {},
     "output_type": "execute_result"
    }
   ],
   "source": [
    "nlp.vocab[news_df['token'][0][0]].vector"
   ]
  },
  {
   "cell_type": "code",
   "execution_count": 12,
   "id": "c69af1c3",
   "metadata": {},
   "outputs": [
    {
     "data": {
      "text/plain": [
       "(300,)"
      ]
     },
     "execution_count": 12,
     "metadata": {},
     "output_type": "execute_result"
    }
   ],
   "source": [
    "# conferindo o tamanho\n",
    "\n",
    "nlp.vocab[news_df['token'][0][0]].vector.shape"
   ]
  },
  {
   "cell_type": "code",
   "execution_count": 13,
   "id": "e23c9b14",
   "metadata": {},
   "outputs": [
    {
     "data": {
      "text/plain": [
       "'oppo'"
      ]
     },
     "execution_count": 13,
     "metadata": {},
     "output_type": "execute_result"
    }
   ],
   "source": [
    "news_df['token'][0][0]"
   ]
  },
  {
   "cell_type": "markdown",
   "id": "924f6a68",
   "metadata": {},
   "source": [
    "Transformamos a palavra 'adobe' em um vetor com 300 colunas, agora faremos isso com todas as palavras de todos os textos."
   ]
  },
  {
   "cell_type": "code",
   "execution_count": 14,
   "id": "dfa654a2",
   "metadata": {},
   "outputs": [],
   "source": [
    "vec_size = 300\n",
    "list_of_matrix = [] #criando uma lista vazia que vai ser preenchida no final do código\n",
    "for corpus in news_df['token']: # pegando cada noticia na coluna 'token'\n",
    "    matrix = np.empty([len(corpus), vec_size]) # criando uma matriz vazia, com quantidade de linhas sendo a quantidade de palavras\n",
    "                                               # da noticia e 300 colunas\n",
    "    for idx, word in enumerate(corpus):\n",
    "        matrix[idx,:] = vec(word) # adicionando em cada uma das 300 colunas, as palavras vetorizadas\n",
    "    list_of_matrix.append(matrix) # adicionando cada matriz nova a lista vazia criada no começo, cada elemento dessa lista, possui\n",
    "                                  # a quantidade de palavras da materia de linhas e 300 colunas"
   ]
  },
  {
   "cell_type": "markdown",
   "id": "f8ae961f",
   "metadata": {},
   "source": [
    "### O código acima nos retorna uma lista de matrizes, cada elemento dessa lista é uma matriz, com as palavras da materia e cada uma dessas palavras vetorizadas.\n",
    "\n",
    "#### Por exemplo, a primeira materia tem 34 palavras, logo ao ver o tamanho da primeira matriz dessa lista, devemos ter uma matriz de tamanho (34,300), vamos conferir:"
   ]
  },
  {
   "cell_type": "code",
   "execution_count": 15,
   "id": "ac7c40c1",
   "metadata": {},
   "outputs": [
    {
     "data": {
      "text/plain": [
       "(34, (34, 300))"
      ]
     },
     "execution_count": 15,
     "metadata": {},
     "output_type": "execute_result"
    }
   ],
   "source": [
    "len(news_df['token'][0]), list_of_matrix[0].shape"
   ]
  },
  {
   "cell_type": "markdown",
   "id": "53df55c7",
   "metadata": {},
   "source": [
    "Agora iremos criar uma matriz final, para isso pegaremos cada um dos elementos da lista de matriz criada acima, e cacularemos a média em relação as linhas.\n",
    "\n",
    "Ao final, teremos uma matriz com 75 linhas (quantidade de matérias) e 300 colunas ( representação de cada materia pela média de cada palavra dela vetorizada)"
   ]
  },
  {
   "cell_type": "code",
   "execution_count": 16,
   "id": "1f123c75",
   "metadata": {},
   "outputs": [],
   "source": [
    "final_feature_matrix = np.empty([rows, vec_size])\n",
    "\n",
    "for row in range(rows):\n",
    "    final_feature_matrix[row,:] = list_of_matrix[row].mean(axis = 0)"
   ]
  },
  {
   "cell_type": "code",
   "execution_count": 17,
   "id": "33914cbc",
   "metadata": {},
   "outputs": [
    {
     "data": {
      "text/plain": [
       "array([[-5.88117759e-03, -1.54109295e-04,  1.67464239e-01, ...,\n",
       "        -1.03151437e-01, -2.03625014e-02,  1.64938088e-01],\n",
       "       [-5.65488766e-02,  2.09396958e-01,  2.14244590e-02, ...,\n",
       "         9.19019030e-03, -1.21167317e-02,  1.54071751e-01],\n",
       "       [-7.32981614e-02,  1.55846708e-01, -9.95325060e-04, ...,\n",
       "         5.52062799e-03, -2.37464527e-02,  2.38373677e-02],\n",
       "       ...,\n",
       "       [-4.34140052e-02,  3.30001357e-02,  2.20442481e-01, ...,\n",
       "         5.75801386e-02, -1.96012760e-02, -2.31528964e-02],\n",
       "       [-2.49482298e-01,  1.42420839e-01, -3.28405292e-03, ...,\n",
       "        -9.55667828e-02,  7.71875809e-03,  1.13135940e-02],\n",
       "       [ 1.35906427e-02,  1.98397277e-02,  1.73255135e-01, ...,\n",
       "         1.34983458e-01, -7.52945653e-02,  3.10516196e-03]])"
      ]
     },
     "execution_count": 17,
     "metadata": {},
     "output_type": "execute_result"
    }
   ],
   "source": [
    "final_feature_matrix"
   ]
  },
  {
   "cell_type": "code",
   "execution_count": 18,
   "id": "d59ce633",
   "metadata": {},
   "outputs": [
    {
     "data": {
      "text/plain": [
       "(75, 300)"
      ]
     },
     "execution_count": 18,
     "metadata": {},
     "output_type": "execute_result"
    }
   ],
   "source": [
    "final_feature_matrix.shape"
   ]
  },
  {
   "cell_type": "markdown",
   "id": "2ca35f00",
   "metadata": {},
   "source": [
    "Já fizemos todo o processamento nos textos, já podemos fazer a clusterização para dividir nossos dados. Porém, para explorar um pouco mais nossas possibilidades, vamos fazer um redimensionamento, afinal, estamos com 300 colunas. \n",
    "\n",
    "Vamos escolher dois modelos de redimensionamento, fazer a clusterização em cada um dos novos dados e escolher o melhor resultado para nosso modelo final. "
   ]
  },
  {
   "cell_type": "markdown",
   "id": "7b6e2d2a",
   "metadata": {},
   "source": [
    "### Redimensionamento - PCA\n",
    "\n",
    "vamos fazer o primeiro redimensionamento com o PCA (Principal component analysis).\n",
    "\n",
    "[Documentação PCA](https://scikit-learn.org/stable/modules/generated/sklearn.decomposition.PCA.html?highlight=pca#sklearn.decomposition.PCA)\n",
    "\n",
    "Iremos fazer dois testes, primeiro vamos reduzir para 20 variáveis e depois vamos reduzir para apenas duas variáveis."
   ]
  },
  {
   "cell_type": "code",
   "execution_count": 19,
   "id": "5c8e4ac1",
   "metadata": {},
   "outputs": [],
   "source": [
    "from sklearn.decomposition import PCA\n",
    "pca = PCA(n_components=20)\n",
    "principalComponents = pca.fit_transform(final_feature_matrix)"
   ]
  },
  {
   "cell_type": "code",
   "execution_count": 20,
   "id": "fedfa59c",
   "metadata": {},
   "outputs": [
    {
     "data": {
      "text/plain": [
       "(75, 20)"
      ]
     },
     "execution_count": 20,
     "metadata": {},
     "output_type": "execute_result"
    }
   ],
   "source": [
    "# note que diminuimos realmente de 300 para 20 variáveis\n",
    "\n",
    "principalComponents.shape"
   ]
  },
  {
   "cell_type": "code",
   "execution_count": 21,
   "id": "5e2da81f",
   "metadata": {},
   "outputs": [
    {
     "data": {
      "text/plain": [
       "array([0, 2, 2, 2, 2, 0, 2, 2, 2, 2, 0, 2, 2, 2, 1, 2, 2, 2, 2, 1, 2, 2,\n",
       "       2, 2, 2, 0, 0, 0, 0, 1, 0, 0, 0, 0, 0, 0, 0, 2, 0, 0, 0, 0, 0, 0,\n",
       "       0, 0, 0, 0, 0, 0, 1, 1, 1, 2, 1, 2, 1, 1, 1, 1, 1, 1, 2, 1, 1, 1,\n",
       "       1, 1, 1, 1, 2, 2, 1, 2, 1])"
      ]
     },
     "execution_count": 21,
     "metadata": {},
     "output_type": "execute_result"
    }
   ],
   "source": [
    "# como temos três categorias, vamos fazer o agrupamento em três clusters\n",
    "\n",
    "from sklearn.cluster import KMeans\n",
    "kmeans = KMeans(n_clusters=3, random_state=0).fit(principalComponents)\n",
    "kmeans.labels_"
   ]
  },
  {
   "cell_type": "code",
   "execution_count": 22,
   "id": "d3480891",
   "metadata": {},
   "outputs": [
    {
     "name": "stdout",
     "output_type": "stream",
     "text": [
      "0     technology\n",
      "5     technology\n",
      "10    technology\n",
      "25        sports\n",
      "26        sports\n",
      "27        sports\n",
      "28        sports\n",
      "30        sports\n",
      "31        sports\n",
      "32        sports\n",
      "33        sports\n",
      "34        sports\n",
      "35        sports\n",
      "36        sports\n",
      "38        sports\n",
      "39        sports\n",
      "40        sports\n",
      "41        sports\n",
      "42        sports\n",
      "43        sports\n",
      "44        sports\n",
      "45        sports\n",
      "46        sports\n",
      "47        sports\n",
      "48        sports\n",
      "49        sports\n",
      "Name: news_category, dtype: object\n",
      "14    technology\n",
      "19    technology\n",
      "29        sports\n",
      "50      politics\n",
      "51      politics\n",
      "52      politics\n",
      "54      politics\n",
      "56      politics\n",
      "57      politics\n",
      "58      politics\n",
      "59      politics\n",
      "60      politics\n",
      "61      politics\n",
      "63      politics\n",
      "64      politics\n",
      "65      politics\n",
      "66      politics\n",
      "67      politics\n",
      "68      politics\n",
      "69      politics\n",
      "72      politics\n",
      "74      politics\n",
      "Name: news_category, dtype: object\n",
      "1     technology\n",
      "2     technology\n",
      "3     technology\n",
      "4     technology\n",
      "6     technology\n",
      "7     technology\n",
      "8     technology\n",
      "9     technology\n",
      "11    technology\n",
      "12    technology\n",
      "13    technology\n",
      "15    technology\n",
      "16    technology\n",
      "17    technology\n",
      "18    technology\n",
      "20    technology\n",
      "21    technology\n",
      "22    technology\n",
      "23    technology\n",
      "24    technology\n",
      "37        sports\n",
      "53      politics\n",
      "55      politics\n",
      "62      politics\n",
      "70      politics\n",
      "71      politics\n",
      "73      politics\n",
      "Name: news_category, dtype: object\n"
     ]
    }
   ],
   "source": [
    "# conferindo a clusterização de acordo com as materias do dataset\n",
    "\n",
    "print(news_df[\"news_category\"][kmeans.labels_ == 0]) \n",
    "print(news_df[\"news_category\"][kmeans.labels_ == 1])\n",
    "print(news_df[\"news_category\"][kmeans.labels_ == 2])"
   ]
  },
  {
   "cell_type": "markdown",
   "id": "879bc6f3",
   "metadata": {},
   "source": [
    "Não conseguimos separar 100% todas as categorias, mas conseguimos um ótimo resultado, vamos fazer o teste agora reduzindo para apenas duas dimensões."
   ]
  },
  {
   "cell_type": "code",
   "execution_count": 23,
   "id": "f97b67b8",
   "metadata": {},
   "outputs": [],
   "source": [
    "pca2 = PCA(n_components=2)\n",
    "principalComponents2 = pca2.fit_transform(final_feature_matrix)\n",
    "kmeans2 = KMeans(n_clusters=3, random_state=0).fit(principalComponents2)"
   ]
  },
  {
   "cell_type": "code",
   "execution_count": 24,
   "id": "1eab7b1b",
   "metadata": {},
   "outputs": [
    {
     "name": "stdout",
     "output_type": "stream",
     "text": [
      "5     technology\n",
      "10    technology\n",
      "25        sports\n",
      "26        sports\n",
      "27        sports\n",
      "28        sports\n",
      "30        sports\n",
      "31        sports\n",
      "32        sports\n",
      "33        sports\n",
      "34        sports\n",
      "35        sports\n",
      "36        sports\n",
      "38        sports\n",
      "39        sports\n",
      "40        sports\n",
      "41        sports\n",
      "42        sports\n",
      "43        sports\n",
      "44        sports\n",
      "45        sports\n",
      "46        sports\n",
      "47        sports\n",
      "48        sports\n",
      "49        sports\n",
      "Name: news_category, dtype: object\n",
      "14    technology\n",
      "19    technology\n",
      "29        sports\n",
      "50      politics\n",
      "51      politics\n",
      "52      politics\n",
      "54      politics\n",
      "56      politics\n",
      "57      politics\n",
      "58      politics\n",
      "59      politics\n",
      "60      politics\n",
      "61      politics\n",
      "63      politics\n",
      "64      politics\n",
      "65      politics\n",
      "66      politics\n",
      "67      politics\n",
      "68      politics\n",
      "69      politics\n",
      "72      politics\n",
      "74      politics\n",
      "Name: news_category, dtype: object\n",
      "0     technology\n",
      "1     technology\n",
      "2     technology\n",
      "3     technology\n",
      "4     technology\n",
      "6     technology\n",
      "7     technology\n",
      "8     technology\n",
      "9     technology\n",
      "11    technology\n",
      "12    technology\n",
      "13    technology\n",
      "15    technology\n",
      "16    technology\n",
      "17    technology\n",
      "18    technology\n",
      "20    technology\n",
      "21    technology\n",
      "22    technology\n",
      "23    technology\n",
      "24    technology\n",
      "37        sports\n",
      "53      politics\n",
      "55      politics\n",
      "62      politics\n",
      "70      politics\n",
      "71      politics\n",
      "73      politics\n",
      "Name: news_category, dtype: object\n"
     ]
    }
   ],
   "source": [
    "print(news_df[\"news_category\"][kmeans2.labels_ == 0]) \n",
    "print(news_df[\"news_category\"][kmeans2.labels_ == 1])\n",
    "print(news_df[\"news_category\"][kmeans2.labels_ == 2])"
   ]
  },
  {
   "cell_type": "markdown",
   "id": "2af7d2c2",
   "metadata": {},
   "source": [
    "Como estamos em duas dimensões, podemos comparar graficamente as categorias reais com as categorias agrupadas pelo KMeans"
   ]
  },
  {
   "cell_type": "code",
   "execution_count": 25,
   "id": "a79df67d",
   "metadata": {},
   "outputs": [
    {
     "data": {
      "image/png": "[encoded data removed]",
      "text/plain": [
       "<Figure size 432x288 with 1 Axes>"
      ]
     },
     "metadata": {
      "needs_background": "light"
     },
     "output_type": "display_data"
    }
   ],
   "source": [
    "x = principalComponents2[:,0]\n",
    "y = principalComponents2[:,1]\n",
    "\n",
    "colors = {'technology':'red', 'politics':'blue', 'sports':'green'}\n",
    "plt.scatter(x, y, alpha=0.5, c = news_df['news_category'].apply(lambda x: colors[x]))\n",
    "plt.title('Visualização das categorias depois do redimensionamento')\n",
    "plt.xlabel('Componente 1')\n",
    "plt.ylabel('Componente 2')\n",
    "plt.show()"
   ]
  },
  {
   "cell_type": "code",
   "execution_count": 26,
   "id": "f522558c",
   "metadata": {},
   "outputs": [
    {
     "data": {
      "image/png": "[encoded data removed]",
      "text/plain": [
       "<Figure size 432x288 with 1 Axes>"
      ]
     },
     "metadata": {
      "needs_background": "light"
     },
     "output_type": "display_data"
    }
   ],
   "source": [
    "plt.title('Agrupamento pelo KMeans')\n",
    "plt.scatter(x, y,  \n",
    "            c = kmeans2.predict(principalComponents2), cmap = plt.cm.Paired)\n",
    "for centr in kmeans2.cluster_centers_:\n",
    "    plt.scatter(centr[0], centr[1], s = 100, marker = 'x', c = 'black', lw = 7)\n",
    "plt.show()"
   ]
  },
  {
   "cell_type": "markdown",
   "id": "89073839",
   "metadata": {},
   "source": [
    "Muito interessante como conseguimos uma ótima separação dos dados. Vamos repetir o processo com outro modelo de redimensionamento, o ICA\n",
    "\n",
    "### Redimensionamento - ICA (Independent Component Analysis)\n",
    "\n",
    "[Documentação ICA](https://scikit-learn.org/stable/modules/generated/sklearn.decomposition.FastICA.html?highlight=ica#sklearn.decomposition.FastICA)\n",
    "\n",
    "Vamos repetir o processo que fizemos para o PCA, isto é, faremos dois redimensionamentos, um com 20 variáveis e outro com 2 variáveis.\n"
   ]
  },
  {
   "cell_type": "code",
   "execution_count": 27,
   "id": "cd459dac",
   "metadata": {},
   "outputs": [],
   "source": [
    "from sklearn.decomposition import FastICA"
   ]
  },
  {
   "cell_type": "code",
   "execution_count": 28,
   "id": "f0745ab8",
   "metadata": {},
   "outputs": [
    {
     "name": "stderr",
     "output_type": "stream",
     "text": [
      "C:\\Users\\luand\\anaconda3\\lib\\site-packages\\sklearn\\decomposition\\_fastica.py:118: ConvergenceWarning: FastICA did not converge. Consider increasing tolerance or the maximum number of iterations.\n",
      "  warnings.warn('FastICA did not converge. Consider increasing '\n"
     ]
    },
    {
     "data": {
      "text/plain": [
       "array([1, 1, 2, 1, 1, 1, 1, 1, 1, 2, 1, 1, 1, 1, 1, 2, 1, 1, 1, 1, 1, 1,\n",
       "       2, 2, 2, 1, 0, 1, 2, 1, 2, 1, 2, 2, 0, 1, 2, 1, 2, 0, 1, 2, 2, 0,\n",
       "       0, 2, 1, 0, 2, 1, 1, 2, 1, 1, 2, 1, 2, 1, 2, 2, 1, 1, 1, 1, 2, 1,\n",
       "       1, 1, 1, 1, 1, 1, 2, 2, 2])"
      ]
     },
     "execution_count": 28,
     "metadata": {},
     "output_type": "execute_result"
    }
   ],
   "source": [
    "ica = FastICA(n_components=20, random_state= 0)\n",
    "principalComponents3 = ica.fit_transform(final_feature_matrix)\n",
    "\n",
    "kmeans3 = KMeans(n_clusters=3, random_state=0).fit(principalComponents3)\n",
    "kmeans3.labels_"
   ]
  },
  {
   "cell_type": "code",
   "execution_count": 29,
   "id": "d2ba43a3",
   "metadata": {},
   "outputs": [
    {
     "name": "stdout",
     "output_type": "stream",
     "text": [
      "26    sports\n",
      "34    sports\n",
      "39    sports\n",
      "43    sports\n",
      "44    sports\n",
      "47    sports\n",
      "Name: news_category, dtype: object\n",
      "0     technology\n",
      "1     technology\n",
      "3     technology\n",
      "4     technology\n",
      "5     technology\n",
      "6     technology\n",
      "7     technology\n",
      "8     technology\n",
      "10    technology\n",
      "11    technology\n",
      "12    technology\n",
      "13    technology\n",
      "14    technology\n",
      "16    technology\n",
      "17    technology\n",
      "18    technology\n",
      "19    technology\n",
      "20    technology\n",
      "21    technology\n",
      "25        sports\n",
      "27        sports\n",
      "29        sports\n",
      "31        sports\n",
      "35        sports\n",
      "37        sports\n",
      "40        sports\n",
      "46        sports\n",
      "49        sports\n",
      "50      politics\n",
      "52      politics\n",
      "53      politics\n",
      "55      politics\n",
      "57      politics\n",
      "60      politics\n",
      "61      politics\n",
      "62      politics\n",
      "63      politics\n",
      "65      politics\n",
      "66      politics\n",
      "67      politics\n",
      "68      politics\n",
      "69      politics\n",
      "70      politics\n",
      "71      politics\n",
      "Name: news_category, dtype: object\n",
      "2     technology\n",
      "9     technology\n",
      "15    technology\n",
      "22    technology\n",
      "23    technology\n",
      "24    technology\n",
      "28        sports\n",
      "30        sports\n",
      "32        sports\n",
      "33        sports\n",
      "36        sports\n",
      "38        sports\n",
      "41        sports\n",
      "42        sports\n",
      "45        sports\n",
      "48        sports\n",
      "51      politics\n",
      "54      politics\n",
      "56      politics\n",
      "58      politics\n",
      "59      politics\n",
      "64      politics\n",
      "72      politics\n",
      "73      politics\n",
      "74      politics\n",
      "Name: news_category, dtype: object\n"
     ]
    }
   ],
   "source": [
    "print(news_df[\"news_category\"][kmeans3.labels_ == 0]) \n",
    "print(news_df[\"news_category\"][kmeans3.labels_ == 1])\n",
    "print(news_df[\"news_category\"][kmeans3.labels_ == 2])"
   ]
  },
  {
   "cell_type": "markdown",
   "id": "072c45ac",
   "metadata": {},
   "source": [
    "Pelo que percebemos, o redimensionamento para 20 variáveis não foi tão preciso, vamos ver agora para 2 variáveis."
   ]
  },
  {
   "cell_type": "code",
   "execution_count": 30,
   "id": "0c226e80",
   "metadata": {},
   "outputs": [
    {
     "data": {
      "text/plain": [
       "array([2, 2, 2, 2, 2, 0, 2, 2, 2, 2, 0, 2, 2, 2, 1, 2, 2, 2, 2, 1, 2, 2,\n",
       "       2, 2, 2, 0, 0, 0, 0, 1, 0, 0, 0, 0, 0, 0, 0, 2, 0, 0, 0, 0, 0, 0,\n",
       "       0, 0, 0, 0, 0, 0, 1, 1, 1, 2, 1, 1, 1, 1, 1, 1, 1, 1, 2, 1, 1, 1,\n",
       "       1, 1, 1, 1, 2, 2, 1, 2, 1])"
      ]
     },
     "execution_count": 30,
     "metadata": {},
     "output_type": "execute_result"
    }
   ],
   "source": [
    "ica2 = FastICA(n_components=2, random_state= 0)\n",
    "principalComponents4 = ica2.fit_transform(final_feature_matrix)\n",
    "\n",
    "kmeans4 = KMeans(n_clusters=3, random_state=0).fit(principalComponents4)\n",
    "kmeans4.labels_"
   ]
  },
  {
   "cell_type": "code",
   "execution_count": 31,
   "id": "258c6a15",
   "metadata": {},
   "outputs": [
    {
     "name": "stdout",
     "output_type": "stream",
     "text": [
      "5     technology\n",
      "10    technology\n",
      "25        sports\n",
      "26        sports\n",
      "27        sports\n",
      "28        sports\n",
      "30        sports\n",
      "31        sports\n",
      "32        sports\n",
      "33        sports\n",
      "34        sports\n",
      "35        sports\n",
      "36        sports\n",
      "38        sports\n",
      "39        sports\n",
      "40        sports\n",
      "41        sports\n",
      "42        sports\n",
      "43        sports\n",
      "44        sports\n",
      "45        sports\n",
      "46        sports\n",
      "47        sports\n",
      "48        sports\n",
      "49        sports\n",
      "Name: news_category, dtype: object\n",
      "14    technology\n",
      "19    technology\n",
      "29        sports\n",
      "50      politics\n",
      "51      politics\n",
      "52      politics\n",
      "54      politics\n",
      "55      politics\n",
      "56      politics\n",
      "57      politics\n",
      "58      politics\n",
      "59      politics\n",
      "60      politics\n",
      "61      politics\n",
      "63      politics\n",
      "64      politics\n",
      "65      politics\n",
      "66      politics\n",
      "67      politics\n",
      "68      politics\n",
      "69      politics\n",
      "72      politics\n",
      "74      politics\n",
      "Name: news_category, dtype: object\n",
      "0     technology\n",
      "1     technology\n",
      "2     technology\n",
      "3     technology\n",
      "4     technology\n",
      "6     technology\n",
      "7     technology\n",
      "8     technology\n",
      "9     technology\n",
      "11    technology\n",
      "12    technology\n",
      "13    technology\n",
      "15    technology\n",
      "16    technology\n",
      "17    technology\n",
      "18    technology\n",
      "20    technology\n",
      "21    technology\n",
      "22    technology\n",
      "23    technology\n",
      "24    technology\n",
      "37        sports\n",
      "53      politics\n",
      "62      politics\n",
      "70      politics\n",
      "71      politics\n",
      "73      politics\n",
      "Name: news_category, dtype: object\n"
     ]
    }
   ],
   "source": [
    "print(news_df[\"news_category\"][kmeans4.labels_ == 0]) \n",
    "print(news_df[\"news_category\"][kmeans4.labels_ == 1])\n",
    "print(news_df[\"news_category\"][kmeans4.labels_ == 2])"
   ]
  },
  {
   "cell_type": "markdown",
   "id": "03e6f3c4",
   "metadata": {},
   "source": [
    "Para duas dimensões, conseguimos os mesmos resultados que o feito com o PCA para duas dimensões também, vamos olhar graficamente."
   ]
  },
  {
   "cell_type": "code",
   "execution_count": 32,
   "id": "c0510601",
   "metadata": {},
   "outputs": [
    {
     "data": {
      "image/png": "[encoded data removed]",
      "text/plain": [
       "<Figure size 432x288 with 1 Axes>"
      ]
     },
     "metadata": {
      "needs_background": "light"
     },
     "output_type": "display_data"
    }
   ],
   "source": [
    "x2 = principalComponents4[:,0]\n",
    "y2 = principalComponents4[:,1]\n",
    "\n",
    "colors = {'technology':'red', 'politics':'blue', 'sports':'green'}\n",
    "plt.scatter(x2, y2, alpha=0.5, c = news_df['news_category'].apply(lambda x: colors[x]))\n",
    "plt.title('Visualização das categorias depois do redimensionamento')\n",
    "plt.xlabel('x')\n",
    "plt.ylabel('y')\n",
    "plt.show()"
   ]
  },
  {
   "cell_type": "code",
   "execution_count": 33,
   "id": "2e12268f",
   "metadata": {},
   "outputs": [
    {
     "data": {
      "image/png": "[encoded data removed]",
      "text/plain": [
       "<Figure size 432x288 with 1 Axes>"
      ]
     },
     "metadata": {
      "needs_background": "light"
     },
     "output_type": "display_data"
    }
   ],
   "source": [
    "plt.title('Agrupamento pelo KMeans')\n",
    "plt.scatter(x2, y2,  \n",
    "            c = kmeans4.predict(principalComponents4), cmap = plt.cm.Paired)\n",
    "for centr in kmeans4.cluster_centers_:\n",
    "    plt.scatter(centr[0], centr[1], s = 100, marker = 'x', c = 'black', lw = 7)\n",
    "plt.show()"
   ]
  },
  {
   "cell_type": "markdown",
   "id": "1f62598b",
   "metadata": {},
   "source": [
    "### Criando uma classe de Pré-Processamento.\n",
    "\n",
    "Será que conseguimos juntar tudo isso que fizemos até agora em um único lugar? A resposta é sim, conseguimos, vamos fazer isso criando uma classe, que fará tudo isso que fizemos antes, desde o pré-processamento, tokenização, redimensionamento, clusterização e por fim, nos mostrará um gráfico, caso o redimensionamento sejá feito para duas variáveis."
   ]
  },
  {
   "cell_type": "code",
   "execution_count": 34,
   "id": "0faf2132",
   "metadata": {},
   "outputs": [],
   "source": [
    "class preprocessamento_total():\n",
    "    \n",
    "    def __init__(self, data, coluna):\n",
    "        self.data = data\n",
    "        self.coluna = coluna\n",
    "        self.rows = data.shape[0]\n",
    "        self.cols = data.shape[1]\n",
    "        self.final_feature_matrix = np.empty([self.rows, 300])\n",
    "        list_of_matrix = []\n",
    "    \n",
    "    def preprocess(self):\n",
    "        self.data['token'] = [preprocess_text(self.data[self.coluna][row]) for row in range(self.rows)]\n",
    "    \n",
    "    def to_vector(self):\n",
    "        nlp = spacy.load('en_core_web_md')\n",
    "        for corpus in self.data['token']:\n",
    "            matrix = np.empty([len(corpus), 300])\n",
    "        for idx, word in enumerate(corpus):\n",
    "            matrix[idx,:] = nlp.vocab[word].vector\n",
    "        list_of_matrix.append(matrix)\n",
    "        for row in range(self.rows):\n",
    "            self.final_feature_matrix[row,:] = list_of_matrix[row].mean(axis = 0)\n",
    "    \n",
    "    def clust(self, modelo = 'PCA', dimensao = 2, clusters = 3):\n",
    "        self.clusters = clusters\n",
    "        self.modelo = modelo\n",
    "        self.dimensao = dimensao\n",
    "        self.labels = []\n",
    "        try:\n",
    "            if modelo == 'PCA':\n",
    "                self.pca = PCA(n_components=dimensao)\n",
    "                self.principalComponents = self.pca.fit_transform(self.final_feature_matrix)\n",
    "                self.kmeans = KMeans(n_clusters=clusters, random_state=0).fit(self.principalComponents)\n",
    "                self.labels = kmeans.labels_\n",
    "                return self.labels\n",
    "            elif modelo == 'ICA':\n",
    "                self.ica = FastICA(n_components=dimensao, random_state= 0)\n",
    "                self.principalComponents = self.ica.fit_transform(self.final_feature_matrix)\n",
    "                self.kmeans = KMeans(n_clusters=clusters, random_state=0).fit(self.principalComponents)\n",
    "                self.labels = self.kmeans.labels_\n",
    "                return self.labels\n",
    "            else:\n",
    "                print('A classe foi criada com suporte apenas para os modelos PCA e ICA')\n",
    "        except:\n",
    "            print('Os dados precisam serem vetorizados antes com o método .to_vector()')\n",
    "    def graf(self):\n",
    "        try:\n",
    "            if self.dimensao == 2:\n",
    "                plt.figure(figsize = [12,8])\n",
    "                plt.title('Agrupamento pelo KMeans')\n",
    "                plt.scatter(self.principalComponents[:,0], self.principalComponents[:,1],  \n",
    "                c = self.kmeans.predict(self.principalComponents), cmap = plt.cm.Paired)\n",
    "                for centr in self.kmeans.cluster_centers_:\n",
    "                    plt.scatter(centr[0], centr[1], s = 100, marker = 'x', c = 'black', lw = 7)\n",
    "                plt.show()\n",
    "            else:\n",
    "                print(\"Só conseguimos criar o gráfico se a dimensão do redimensionamento for igual a dois.\")\n",
    "        except:\n",
    "            print('A clusterização precisa ser feita antes com o metodo .clust()')"
   ]
  },
  {
   "cell_type": "markdown",
   "id": "a2d22bb7",
   "metadata": {},
   "source": [
    "Vamos escolher o modelo ICA com n = 2 como o modelo final para o sistema de recomendação que iremos criar\n",
    "\n",
    "Agora repetiremos o processo feito com nossa base de dados, agora usando a classe criada acima."
   ]
  },
  {
   "cell_type": "code",
   "execution_count": 35,
   "id": "34f41bda",
   "metadata": {},
   "outputs": [],
   "source": [
    "# aqui precisamos usar o dataset na versão original, por isso estamos aplicando a função em 'news_df1'\n",
    "\n",
    "prepro1 = preprocessamento_total(data = news_df1, coluna = 'news_article')"
   ]
  },
  {
   "cell_type": "code",
   "execution_count": 36,
   "id": "bea6660e",
   "metadata": {},
   "outputs": [
    {
     "data": {
      "text/html": [
       "<div>\n",
       "<style scoped>\n",
       "    .dataframe tbody tr th:only-of-type {\n",
       "        vertical-align: middle;\n",
       "    }\n",
       "\n",
       "    .dataframe tbody tr th {\n",
       "        vertical-align: top;\n",
       "    }\n",
       "\n",
       "    .dataframe thead th {\n",
       "        text-align: right;\n",
       "    }\n",
       "</style>\n",
       "<table border=\"1\" class=\"dataframe\">\n",
       "  <thead>\n",
       "    <tr style=\"text-align: right;\">\n",
       "      <th></th>\n",
       "      <th>news_headline</th>\n",
       "      <th>news_article</th>\n",
       "      <th>news_category</th>\n",
       "    </tr>\n",
       "  </thead>\n",
       "  <tbody>\n",
       "    <tr>\n",
       "      <th>0</th>\n",
       "      <td>OPPO to unveil Reno6 Pro 5G with Bokeh Flare P...</td>\n",
       "      <td>OPPO is set to launch the Reno6 Pro 5G equippe...</td>\n",
       "      <td>technology</td>\n",
       "    </tr>\n",
       "    <tr>\n",
       "      <th>1</th>\n",
       "      <td>Have to be CEO or Tesla would die: Elon Musk t...</td>\n",
       "      <td>During a US trial over SolarCity's acquisition...</td>\n",
       "      <td>technology</td>\n",
       "    </tr>\n",
       "    <tr>\n",
       "      <th>2</th>\n",
       "      <td>Elon Musk pays $10,000 deposit to Virgin Galac...</td>\n",
       "      <td>SpaceX CEO Elon Musk has paid a $10,000 (aroun...</td>\n",
       "      <td>technology</td>\n",
       "    </tr>\n",
       "    <tr>\n",
       "      <th>3</th>\n",
       "      <td>'Google constantly listens to your conversatio...</td>\n",
       "      <td>Google in a Facebook post called the notion ab...</td>\n",
       "      <td>technology</td>\n",
       "    </tr>\n",
       "    <tr>\n",
       "      <th>4</th>\n",
       "      <td>Google fined ₹4,400 crore by France over news ...</td>\n",
       "      <td>Google has been fined €500 million (over ₹4,40...</td>\n",
       "      <td>technology</td>\n",
       "    </tr>\n",
       "    <tr>\n",
       "      <th>...</th>\n",
       "      <td>...</td>\n",
       "      <td>...</td>\n",
       "      <td>...</td>\n",
       "    </tr>\n",
       "    <tr>\n",
       "      <th>70</th>\n",
       "      <td>Congress will emerge number one party in Mahar...</td>\n",
       "      <td>Maharashtra Congress chief Nana Patole said hi...</td>\n",
       "      <td>politics</td>\n",
       "    </tr>\n",
       "    <tr>\n",
       "      <th>71</th>\n",
       "      <td>Centre's inept management of economy caused in...</td>\n",
       "      <td>Criticising the Centre over the rising prices ...</td>\n",
       "      <td>politics</td>\n",
       "    </tr>\n",
       "    <tr>\n",
       "      <th>72</th>\n",
       "      <td>K'taka CM is a mouse: Siddaramaiah over bank e...</td>\n",
       "      <td>Congress leader Siddaramaiah on Tuesday demand...</td>\n",
       "      <td>politics</td>\n",
       "    </tr>\n",
       "    <tr>\n",
       "      <th>73</th>\n",
       "      <td>Modi govt is least concerned in protecting peo...</td>\n",
       "      <td>Citing a slow vaccination rate, CPI(M) General...</td>\n",
       "      <td>politics</td>\n",
       "    </tr>\n",
       "    <tr>\n",
       "      <th>74</th>\n",
       "      <td>Telangana Congress leader Kaushik Reddy expell...</td>\n",
       "      <td>Congress leader Padi Kaushik Reddy has been ex...</td>\n",
       "      <td>politics</td>\n",
       "    </tr>\n",
       "  </tbody>\n",
       "</table>\n",
       "<p>75 rows × 3 columns</p>\n",
       "</div>"
      ],
      "text/plain": [
       "                                        news_headline  \\\n",
       "0   OPPO to unveil Reno6 Pro 5G with Bokeh Flare P...   \n",
       "1   Have to be CEO or Tesla would die: Elon Musk t...   \n",
       "2   Elon Musk pays $10,000 deposit to Virgin Galac...   \n",
       "3   'Google constantly listens to your conversatio...   \n",
       "4   Google fined ₹4,400 crore by France over news ...   \n",
       "..                                                ...   \n",
       "70  Congress will emerge number one party in Mahar...   \n",
       "71  Centre's inept management of economy caused in...   \n",
       "72  K'taka CM is a mouse: Siddaramaiah over bank e...   \n",
       "73  Modi govt is least concerned in protecting peo...   \n",
       "74  Telangana Congress leader Kaushik Reddy expell...   \n",
       "\n",
       "                                         news_article news_category  \n",
       "0   OPPO is set to launch the Reno6 Pro 5G equippe...    technology  \n",
       "1   During a US trial over SolarCity's acquisition...    technology  \n",
       "2   SpaceX CEO Elon Musk has paid a $10,000 (aroun...    technology  \n",
       "3   Google in a Facebook post called the notion ab...    technology  \n",
       "4   Google has been fined €500 million (over ₹4,40...    technology  \n",
       "..                                                ...           ...  \n",
       "70  Maharashtra Congress chief Nana Patole said hi...      politics  \n",
       "71  Criticising the Centre over the rising prices ...      politics  \n",
       "72  Congress leader Siddaramaiah on Tuesday demand...      politics  \n",
       "73  Citing a slow vaccination rate, CPI(M) General...      politics  \n",
       "74  Congress leader Padi Kaushik Reddy has been ex...      politics  \n",
       "\n",
       "[75 rows x 3 columns]"
      ]
     },
     "execution_count": 36,
     "metadata": {},
     "output_type": "execute_result"
    }
   ],
   "source": [
    "# conferindo a base de dados\n",
    "\n",
    "prepro1.data"
   ]
  },
  {
   "cell_type": "code",
   "execution_count": 37,
   "id": "9331a4e5",
   "metadata": {},
   "outputs": [],
   "source": [
    "# fazendo o pré-processamento\n",
    "\n",
    "prepro1.preprocess()"
   ]
  },
  {
   "cell_type": "code",
   "execution_count": 38,
   "id": "2492c51a",
   "metadata": {},
   "outputs": [
    {
     "data": {
      "text/html": [
       "<div>\n",
       "<style scoped>\n",
       "    .dataframe tbody tr th:only-of-type {\n",
       "        vertical-align: middle;\n",
       "    }\n",
       "\n",
       "    .dataframe tbody tr th {\n",
       "        vertical-align: top;\n",
       "    }\n",
       "\n",
       "    .dataframe thead th {\n",
       "        text-align: right;\n",
       "    }\n",
       "</style>\n",
       "<table border=\"1\" class=\"dataframe\">\n",
       "  <thead>\n",
       "    <tr style=\"text-align: right;\">\n",
       "      <th></th>\n",
       "      <th>news_headline</th>\n",
       "      <th>news_article</th>\n",
       "      <th>news_category</th>\n",
       "      <th>token</th>\n",
       "    </tr>\n",
       "  </thead>\n",
       "  <tbody>\n",
       "    <tr>\n",
       "      <th>0</th>\n",
       "      <td>OPPO to unveil Reno6 Pro 5G with Bokeh Flare P...</td>\n",
       "      <td>OPPO is set to launch the Reno6 Pro 5G equippe...</td>\n",
       "      <td>technology</td>\n",
       "      <td>[oppo, set, launch, reno, pro, equipped, bokeh...</td>\n",
       "    </tr>\n",
       "    <tr>\n",
       "      <th>1</th>\n",
       "      <td>Have to be CEO or Tesla would die: Elon Musk t...</td>\n",
       "      <td>During a US trial over SolarCity's acquisition...</td>\n",
       "      <td>technology</td>\n",
       "      <td>[trial, solarcity, acquisition, billionaire, e...</td>\n",
       "    </tr>\n",
       "    <tr>\n",
       "      <th>2</th>\n",
       "      <td>Elon Musk pays $10,000 deposit to Virgin Galac...</td>\n",
       "      <td>SpaceX CEO Elon Musk has paid a $10,000 (aroun...</td>\n",
       "      <td>technology</td>\n",
       "      <td>[spacex, ceo, elon, musk, paid, lakh, deposit,...</td>\n",
       "    </tr>\n",
       "    <tr>\n",
       "      <th>3</th>\n",
       "      <td>'Google constantly listens to your conversatio...</td>\n",
       "      <td>Google in a Facebook post called the notion ab...</td>\n",
       "      <td>technology</td>\n",
       "      <td>[google, facebook, post, called, notion, compa...</td>\n",
       "    </tr>\n",
       "    <tr>\n",
       "      <th>4</th>\n",
       "      <td>Google fined ₹4,400 crore by France over news ...</td>\n",
       "      <td>Google has been fined €500 million (over ₹4,40...</td>\n",
       "      <td>technology</td>\n",
       "      <td>[google, fined, million, crore, france, news, ...</td>\n",
       "    </tr>\n",
       "    <tr>\n",
       "      <th>...</th>\n",
       "      <td>...</td>\n",
       "      <td>...</td>\n",
       "      <td>...</td>\n",
       "      <td>...</td>\n",
       "    </tr>\n",
       "    <tr>\n",
       "      <th>70</th>\n",
       "      <td>Congress will emerge number one party in Mahar...</td>\n",
       "      <td>Maharashtra Congress chief Nana Patole said hi...</td>\n",
       "      <td>politics</td>\n",
       "      <td>[maharashtra, congress, chief, nana, patole, s...</td>\n",
       "    </tr>\n",
       "    <tr>\n",
       "      <th>71</th>\n",
       "      <td>Centre's inept management of economy caused in...</td>\n",
       "      <td>Criticising the Centre over the rising prices ...</td>\n",
       "      <td>politics</td>\n",
       "      <td>[criticising, centre, rising, prices, fuel, co...</td>\n",
       "    </tr>\n",
       "    <tr>\n",
       "      <th>72</th>\n",
       "      <td>K'taka CM is a mouse: Siddaramaiah over bank e...</td>\n",
       "      <td>Congress leader Siddaramaiah on Tuesday demand...</td>\n",
       "      <td>politics</td>\n",
       "      <td>[congress, leader, siddaramaiah, tuesday, dema...</td>\n",
       "    </tr>\n",
       "    <tr>\n",
       "      <th>73</th>\n",
       "      <td>Modi govt is least concerned in protecting peo...</td>\n",
       "      <td>Citing a slow vaccination rate, CPI(M) General...</td>\n",
       "      <td>politics</td>\n",
       "      <td>[citing, slow, vaccination, rate, cpi, general...</td>\n",
       "    </tr>\n",
       "    <tr>\n",
       "      <th>74</th>\n",
       "      <td>Telangana Congress leader Kaushik Reddy expell...</td>\n",
       "      <td>Congress leader Padi Kaushik Reddy has been ex...</td>\n",
       "      <td>politics</td>\n",
       "      <td>[congress, leader, padi, kaushik, reddy, expel...</td>\n",
       "    </tr>\n",
       "  </tbody>\n",
       "</table>\n",
       "<p>75 rows × 4 columns</p>\n",
       "</div>"
      ],
      "text/plain": [
       "                                        news_headline  \\\n",
       "0   OPPO to unveil Reno6 Pro 5G with Bokeh Flare P...   \n",
       "1   Have to be CEO or Tesla would die: Elon Musk t...   \n",
       "2   Elon Musk pays $10,000 deposit to Virgin Galac...   \n",
       "3   'Google constantly listens to your conversatio...   \n",
       "4   Google fined ₹4,400 crore by France over news ...   \n",
       "..                                                ...   \n",
       "70  Congress will emerge number one party in Mahar...   \n",
       "71  Centre's inept management of economy caused in...   \n",
       "72  K'taka CM is a mouse: Siddaramaiah over bank e...   \n",
       "73  Modi govt is least concerned in protecting peo...   \n",
       "74  Telangana Congress leader Kaushik Reddy expell...   \n",
       "\n",
       "                                         news_article news_category  \\\n",
       "0   OPPO is set to launch the Reno6 Pro 5G equippe...    technology   \n",
       "1   During a US trial over SolarCity's acquisition...    technology   \n",
       "2   SpaceX CEO Elon Musk has paid a $10,000 (aroun...    technology   \n",
       "3   Google in a Facebook post called the notion ab...    technology   \n",
       "4   Google has been fined €500 million (over ₹4,40...    technology   \n",
       "..                                                ...           ...   \n",
       "70  Maharashtra Congress chief Nana Patole said hi...      politics   \n",
       "71  Criticising the Centre over the rising prices ...      politics   \n",
       "72  Congress leader Siddaramaiah on Tuesday demand...      politics   \n",
       "73  Citing a slow vaccination rate, CPI(M) General...      politics   \n",
       "74  Congress leader Padi Kaushik Reddy has been ex...      politics   \n",
       "\n",
       "                                                token  \n",
       "0   [oppo, set, launch, reno, pro, equipped, bokeh...  \n",
       "1   [trial, solarcity, acquisition, billionaire, e...  \n",
       "2   [spacex, ceo, elon, musk, paid, lakh, deposit,...  \n",
       "3   [google, facebook, post, called, notion, compa...  \n",
       "4   [google, fined, million, crore, france, news, ...  \n",
       "..                                                ...  \n",
       "70  [maharashtra, congress, chief, nana, patole, s...  \n",
       "71  [criticising, centre, rising, prices, fuel, co...  \n",
       "72  [congress, leader, siddaramaiah, tuesday, dema...  \n",
       "73  [citing, slow, vaccination, rate, cpi, general...  \n",
       "74  [congress, leader, padi, kaushik, reddy, expel...  \n",
       "\n",
       "[75 rows x 4 columns]"
      ]
     },
     "execution_count": 38,
     "metadata": {},
     "output_type": "execute_result"
    }
   ],
   "source": [
    "# conferindo a base de dados mais uma vez\n",
    "\n",
    "prepro1.data"
   ]
  },
  {
   "cell_type": "code",
   "execution_count": 39,
   "id": "c33a5e21",
   "metadata": {},
   "outputs": [],
   "source": [
    "# fazendo a vetorização\n",
    "\n",
    "prepro1.to_vector()"
   ]
  },
  {
   "cell_type": "code",
   "execution_count": 40,
   "id": "76ce13cc",
   "metadata": {},
   "outputs": [
    {
     "data": {
      "text/plain": [
       "array([2, 2, 2, 2, 2, 0, 2, 2, 2, 2, 0, 2, 2, 2, 1, 2, 2, 2, 2, 1, 2, 2,\n",
       "       2, 2, 2, 0, 0, 0, 0, 1, 0, 0, 0, 0, 0, 0, 0, 2, 0, 0, 0, 0, 0, 0,\n",
       "       0, 0, 0, 0, 0, 0, 1, 1, 1, 2, 1, 1, 1, 1, 1, 1, 1, 1, 2, 1, 1, 1,\n",
       "       1, 1, 1, 1, 2, 2, 1, 2, 1])"
      ]
     },
     "execution_count": 40,
     "metadata": {},
     "output_type": "execute_result"
    }
   ],
   "source": [
    "# redimensionamento e clusterização\n",
    "\n",
    "prepro1.clust('ICA', dimensao= 2, clusters=3)"
   ]
  },
  {
   "cell_type": "markdown",
   "id": "d7f087e6",
   "metadata": {},
   "source": [
    "Como redimensionamos para 2 dimensões, podemos conferir o gráfico feito pela clusterização com o KMeans."
   ]
  },
  {
   "cell_type": "code",
   "execution_count": 41,
   "id": "98320681",
   "metadata": {},
   "outputs": [
    {
     "data": {
      "image/png": "[encoded data removed]",
      "text/plain": [
       "<Figure size 864x576 with 1 Axes>"
      ]
     },
     "metadata": {
      "needs_background": "light"
     },
     "output_type": "display_data"
    }
   ],
   "source": [
    "prepro1.graf()"
   ]
  },
  {
   "cell_type": "markdown",
   "id": "b91b596c",
   "metadata": {},
   "source": [
    "Antes de criar nosso sistema de recomendação, iremos fazer mais uma análise, vamos ver a distancia de cada um dos pontos das clusterizações estão seu centro."
   ]
  },
  {
   "cell_type": "code",
   "execution_count": 42,
   "id": "644b98f1",
   "metadata": {},
   "outputs": [
    {
     "data": {
      "text/plain": [
       "array([[ 0.08827236, -0.11175892],\n",
       "       [ 0.05091589,  0.14108483],\n",
       "       [-0.12510646, -0.01670289]])"
      ]
     },
     "execution_count": 42,
     "metadata": {},
     "output_type": "execute_result"
    }
   ],
   "source": [
    "# centros dos clusters\n",
    "\n",
    "centros = prepro1.kmeans.cluster_centers_\n",
    "\n",
    "centros"
   ]
  },
  {
   "cell_type": "code",
   "execution_count": 43,
   "id": "f48fe43e",
   "metadata": {},
   "outputs": [],
   "source": [
    "# pegando cada componente da clusterização\n",
    "\n",
    "componente0 = prepro1.principalComponents[prepro1.kmeans.labels_ == 0]\n",
    "componente1 = prepro1.principalComponents[prepro1.kmeans.labels_ == 1]\n",
    "componente2 = prepro1.principalComponents[prepro1.kmeans.labels_ == 2]"
   ]
  },
  {
   "cell_type": "markdown",
   "id": "ea3ad316",
   "metadata": {},
   "source": [
    "Agora vamos criar uma função para calcular a distância de cada um dos pontos desse clusters aos centros, e depois pegaremos o máximo de cada."
   ]
  },
  {
   "cell_type": "code",
   "execution_count": 44,
   "id": "a68fe5d1",
   "metadata": {},
   "outputs": [],
   "source": [
    "def dist(x,y):\n",
    "    d = np.sqrt((x[0]-y[0])**2 + (x[1]-y[1])**2)\n",
    "    return d"
   ]
  },
  {
   "cell_type": "code",
   "execution_count": 45,
   "id": "306229be",
   "metadata": {},
   "outputs": [
    {
     "name": "stdout",
     "output_type": "stream",
     "text": [
      "0.16605866733686664 0.33979380368537726 0.32283292344145076\n"
     ]
    }
   ],
   "source": [
    "MaiorDistancia0 = max([dist(centros[0],y) for  y in componente0])\n",
    "MaiorDistancia1 = max([dist(centros[0],y) for  y in componente1])\n",
    "MaiorDistancia2 = max([dist(centros[0],y) for  y in componente2])\n",
    "\n",
    "print(MaiorDistancia0, MaiorDistancia1, MaiorDistancia2)"
   ]
  },
  {
   "cell_type": "code",
   "execution_count": 46,
   "id": "f5e5251f",
   "metadata": {},
   "outputs": [
    {
     "name": "stdout",
     "output_type": "stream",
     "text": [
      "5     technology\n",
      "10    technology\n",
      "25        sports\n",
      "26        sports\n",
      "27        sports\n",
      "28        sports\n",
      "30        sports\n",
      "31        sports\n",
      "32        sports\n",
      "33        sports\n",
      "34        sports\n",
      "35        sports\n",
      "36        sports\n",
      "38        sports\n",
      "39        sports\n",
      "40        sports\n",
      "41        sports\n",
      "42        sports\n",
      "43        sports\n",
      "44        sports\n",
      "45        sports\n",
      "46        sports\n",
      "47        sports\n",
      "48        sports\n",
      "49        sports\n",
      "Name: news_category, dtype: object\n",
      "14    technology\n",
      "19    technology\n",
      "29        sports\n",
      "50      politics\n",
      "51      politics\n",
      "52      politics\n",
      "54      politics\n",
      "55      politics\n",
      "56      politics\n",
      "57      politics\n",
      "58      politics\n",
      "59      politics\n",
      "60      politics\n",
      "61      politics\n",
      "63      politics\n",
      "64      politics\n",
      "65      politics\n",
      "66      politics\n",
      "67      politics\n",
      "68      politics\n",
      "69      politics\n",
      "72      politics\n",
      "74      politics\n",
      "Name: news_category, dtype: object\n",
      "0     technology\n",
      "1     technology\n",
      "2     technology\n",
      "3     technology\n",
      "4     technology\n",
      "6     technology\n",
      "7     technology\n",
      "8     technology\n",
      "9     technology\n",
      "11    technology\n",
      "12    technology\n",
      "13    technology\n",
      "15    technology\n",
      "16    technology\n",
      "17    technology\n",
      "18    technology\n",
      "20    technology\n",
      "21    technology\n",
      "22    technology\n",
      "23    technology\n",
      "24    technology\n",
      "37        sports\n",
      "53      politics\n",
      "62      politics\n",
      "70      politics\n",
      "71      politics\n",
      "73      politics\n",
      "Name: news_category, dtype: object\n"
     ]
    }
   ],
   "source": [
    "# relembrando as principais categorias dos clusters:\n",
    "\n",
    "print(news_df[\"news_category\"][prepro1.kmeans.labels_ == 0]) \n",
    "print(news_df[\"news_category\"][prepro1.kmeans.labels_ == 1])\n",
    "print(news_df[\"news_category\"][prepro1.kmeans.labels_ == 2])"
   ]
  },
  {
   "cell_type": "markdown",
   "id": "330c640e",
   "metadata": {},
   "source": [
    "Terminamos então toda a análise exploratória necessária para conseguirmos criar nosso sistema de recomendação dos textos.\n",
    "\n",
    "# Sistema de recomendação.\n",
    "\n",
    "Vamos criar um sistema de recomendação onde o usuário nos diz uma categoria de texto no qual ele quer ler algo sobre (tecnologia, sports ou politica) e o sistema retornará um dos textos do nosso dataset, em seguida o usuario vai indicar se gostou ou não do texto recomendado, através de uma nota entre 0 e 5, e essa nota será adicionada a uma tabela de usuário-item.\n",
    "\n",
    "Claro que esse sistema é algo bem simples, porém é apenas uma ideia do que podemos fazer com dados relacionados a textos, trabalhando mais nele, aperfeicoando e o tornando mais eficiente.\n",
    "\n",
    "### Estratégia para construção do sistema.\n",
    "\n",
    "A classe que criaremos fará os seguintes passos:\n",
    "\n",
    "__1: Pega o nome do tema escolhido pelo usuário__\n",
    "\n",
    "__2: Escolhe o ponto mas perto do centro do cluster do tema escolhido__\n",
    "\n",
    "__3: Retorna o texto e pede para o usuário avaliar positivamente ou negativamente o texto__\n",
    "\n",
    "__4: Coloca na tebela de usuario-item a nota dada pela avaliação dele.__\n",
    "\n",
    "__5: Além disso, caso o usuário queira ler outro texto do mesmo tema ou outro, ele terá essa opção.__\n",
    "\n",
    "O mais interessante é que com o passar do tempo, a medida que os usuários forem se cadastrando no sistema, nos teremos uma tabela de recomendação mais robusta, podendo futuramente, fazer a sua fatoração ou alguma outra tecnica possível.\n",
    "\n"
   ]
  },
  {
   "cell_type": "markdown",
   "id": "4e9cadbf",
   "metadata": {},
   "source": [
    "Construimos a classe do sistema de recomendação da seguinte forma:\n",
    "\n",
    "__1 - Construtor da classe recebe o dataset, o nome da coluna que se encontra os textos, as categorias na ordem da clusterização feita pelo modelo.__\n",
    "\n",
    "__2 - O método usuário adiciona o usuário a matriz de usuário x item.__\n",
    "\n",
    "__3 - O método recomendação pede ao usuário o tema desejado e retorna um texto de acordo com os clusters, em seguida, já pede a avaliação do usuário e adiciona esse nota na tabela usuário x item.__\n",
    "\n"
   ]
  },
  {
   "cell_type": "code",
   "execution_count": 47,
   "id": "7e6c6f6b",
   "metadata": {},
   "outputs": [],
   "source": [
    "class sistemaAvaliacaoTextos():\n",
    "\n",
    "    def __init__(self, data, coluna, categorias, modelo):\n",
    "        self.data = data\n",
    "        self.coluna = coluna\n",
    "        self.categorias = categorias\n",
    "        self.modelo = modelo\n",
    "        df = np.empty([1, data.shape[0]])\n",
    "        df[:] = np.nan\n",
    "        self.tabelaRecomendação = pd.DataFrame(df)\n",
    "        self.tabelaRecomendação.insert(0, 'Usuário', 0, allow_duplicates=False)\n",
    "        \n",
    "    \n",
    "    def usuario(self, user):\n",
    "        self.user = user\n",
    "        contador = 0\n",
    "        for n in range(self.tabelaRecomendação.shape[0]):\n",
    "            if self.tabelaRecomendação['Usuário'].iloc[n] == self.user:\n",
    "                contador = 1\n",
    "        if contador == 0:   \n",
    "            df1 = np.empty([1, self.data.shape[0]])\n",
    "            df1[:] = np.nan\n",
    "            dff = pd.DataFrame(df1)\n",
    "            dff.insert(0, 'Usuário', 0, allow_duplicates=False)\n",
    "            self.tabelaRecomendação = pd.concat([self.tabelaRecomendação,dff ],\n",
    "                                                axis = 0).reset_index().drop('index', axis = 1)\n",
    "            self.tabelaRecomendação['Usuário'].iloc[-1]= self.user\n",
    "            return 'Usuário criado com sucesso'\n",
    "        if contador == 1:\n",
    "            return 'Usuário encontrado no sistema'\n",
    "    \n",
    "    def recomendacao(self, i):\n",
    "        self.listaCategorias = []\n",
    "        for n in range(len(self.categorias)):\n",
    "            X = self.modelo.data[self.modelo.kmeans.labels_ == n].reset_index()\n",
    "            self.listaCategorias.append(X) \n",
    "        tema = input('\\nQual tema você deseja escolher para leitura?\\n\\n')\n",
    "        for n1 in range(len(self.categorias)):\n",
    "            if tema.lower() == self.categorias[n1]:\n",
    "                print('\\nTexto: \\n')\n",
    "                print(self.listaCategorias[n1][self.coluna][i])\n",
    "                self.avaliacao(i, n1)\n",
    "                \n",
    "    def avaliacao(self, i, categ):\n",
    "        self.lugarNota = []\n",
    "        for n in range(len(self.data[self.coluna])):\n",
    "            if self.data[self.coluna][n] == self.listaCategorias[categ][self.coluna][i]:\n",
    "                self.lugarNota.append(n+1)\n",
    "        \n",
    "        ava = int(input('\\nQual nota você dá para o texto?\\n\\n'))\n",
    "        while (ava <0) or (ava >5):\n",
    "            print('A nota precisa tem que ser um valro entre 0 e 5')\n",
    "            \n",
    "        self.tabelaRecomendação.iloc[-1,self.lugarNota[0]] = float(ava)\n",
    "        \n",
    "        desejo = input('\\nObrigado pela Avaliação. \\n\\nDeseja ler outro texto?\\n\\n')\n",
    "        if desejo.lower() == 'sim':\n",
    "            self.recomendacao(i+1)\n",
    "        elif desejo.lower() == 'não':\n",
    "            print('\\nAgradecemos o uso do sistema e até breve!')\n",
    "        else:\n",
    "            print('\\nDesculpa, mas não consegui entender, volte sempre.')\n",
    "        \n",
    "    \n",
    "        "
   ]
  },
  {
   "cell_type": "markdown",
   "id": "34e119ea",
   "metadata": {},
   "source": [
    "Vamos então criar o sistema usando o dataset 'news_df1', o modelo para clusterização 'prepro1' já criado anteriormente e as categorias ['sports', 'politics', 'technology'], pois como vimos mais acima, a clusterização foi feita nessa ordem."
   ]
  },
  {
   "cell_type": "code",
   "execution_count": 48,
   "id": "74666209",
   "metadata": {},
   "outputs": [],
   "source": [
    "recomenda1 = sistemaAvaliacaoTextos(news_df1, 'news_article', ['sports','politics','technology',], prepro1)"
   ]
  },
  {
   "cell_type": "code",
   "execution_count": 49,
   "id": "47b263e3",
   "metadata": {},
   "outputs": [
    {
     "name": "stderr",
     "output_type": "stream",
     "text": [
      "C:\\Users\\luand\\anaconda3\\lib\\site-packages\\pandas\\core\\indexing.py:1637: SettingWithCopyWarning: \n",
      "A value is trying to be set on a copy of a slice from a DataFrame\n",
      "\n",
      "See the caveats in the documentation: https://pandas.pydata.org/pandas-docs/stable/user_guide/indexing.html#returning-a-view-versus-a-copy\n",
      "  self._setitem_single_block(indexer, value, name)\n"
     ]
    }
   ],
   "source": [
    "# criando um usuário\n",
    "\n",
    "luan = recomenda1.usuario('luan')"
   ]
  },
  {
   "cell_type": "code",
   "execution_count": 50,
   "id": "197cdc25",
   "metadata": {},
   "outputs": [
    {
     "data": {
      "text/html": [
       "<div>\n",
       "<style scoped>\n",
       "    .dataframe tbody tr th:only-of-type {\n",
       "        vertical-align: middle;\n",
       "    }\n",
       "\n",
       "    .dataframe tbody tr th {\n",
       "        vertical-align: top;\n",
       "    }\n",
       "\n",
       "    .dataframe thead th {\n",
       "        text-align: right;\n",
       "    }\n",
       "</style>\n",
       "<table border=\"1\" class=\"dataframe\">\n",
       "  <thead>\n",
       "    <tr style=\"text-align: right;\">\n",
       "      <th></th>\n",
       "      <th>Usuário</th>\n",
       "      <th>0</th>\n",
       "      <th>1</th>\n",
       "      <th>2</th>\n",
       "      <th>3</th>\n",
       "      <th>4</th>\n",
       "      <th>5</th>\n",
       "      <th>6</th>\n",
       "      <th>7</th>\n",
       "      <th>8</th>\n",
       "      <th>...</th>\n",
       "      <th>65</th>\n",
       "      <th>66</th>\n",
       "      <th>67</th>\n",
       "      <th>68</th>\n",
       "      <th>69</th>\n",
       "      <th>70</th>\n",
       "      <th>71</th>\n",
       "      <th>72</th>\n",
       "      <th>73</th>\n",
       "      <th>74</th>\n",
       "    </tr>\n",
       "  </thead>\n",
       "  <tbody>\n",
       "    <tr>\n",
       "      <th>0</th>\n",
       "      <td>0</td>\n",
       "      <td>NaN</td>\n",
       "      <td>NaN</td>\n",
       "      <td>NaN</td>\n",
       "      <td>NaN</td>\n",
       "      <td>NaN</td>\n",
       "      <td>NaN</td>\n",
       "      <td>NaN</td>\n",
       "      <td>NaN</td>\n",
       "      <td>NaN</td>\n",
       "      <td>...</td>\n",
       "      <td>NaN</td>\n",
       "      <td>NaN</td>\n",
       "      <td>NaN</td>\n",
       "      <td>NaN</td>\n",
       "      <td>NaN</td>\n",
       "      <td>NaN</td>\n",
       "      <td>NaN</td>\n",
       "      <td>NaN</td>\n",
       "      <td>NaN</td>\n",
       "      <td>NaN</td>\n",
       "    </tr>\n",
       "    <tr>\n",
       "      <th>1</th>\n",
       "      <td>luan</td>\n",
       "      <td>NaN</td>\n",
       "      <td>NaN</td>\n",
       "      <td>NaN</td>\n",
       "      <td>NaN</td>\n",
       "      <td>NaN</td>\n",
       "      <td>NaN</td>\n",
       "      <td>NaN</td>\n",
       "      <td>NaN</td>\n",
       "      <td>NaN</td>\n",
       "      <td>...</td>\n",
       "      <td>NaN</td>\n",
       "      <td>NaN</td>\n",
       "      <td>NaN</td>\n",
       "      <td>NaN</td>\n",
       "      <td>NaN</td>\n",
       "      <td>NaN</td>\n",
       "      <td>NaN</td>\n",
       "      <td>NaN</td>\n",
       "      <td>NaN</td>\n",
       "      <td>NaN</td>\n",
       "    </tr>\n",
       "  </tbody>\n",
       "</table>\n",
       "<p>2 rows × 76 columns</p>\n",
       "</div>"
      ],
      "text/plain": [
       "  Usuário   0   1   2   3   4   5   6   7   8  ...  65  66  67  68  69  70  \\\n",
       "0       0 NaN NaN NaN NaN NaN NaN NaN NaN NaN  ... NaN NaN NaN NaN NaN NaN   \n",
       "1    luan NaN NaN NaN NaN NaN NaN NaN NaN NaN  ... NaN NaN NaN NaN NaN NaN   \n",
       "\n",
       "   71  72  73  74  \n",
       "0 NaN NaN NaN NaN  \n",
       "1 NaN NaN NaN NaN  \n",
       "\n",
       "[2 rows x 76 columns]"
      ]
     },
     "execution_count": 50,
     "metadata": {},
     "output_type": "execute_result"
    }
   ],
   "source": [
    "recomenda1.tabelaRecomendação"
   ]
  },
  {
   "cell_type": "code",
   "execution_count": 51,
   "id": "65132831",
   "metadata": {},
   "outputs": [
    {
     "name": "stdout",
     "output_type": "stream",
     "text": [
      "\n",
      "Qual tema você deseja escolher para leitura?\n",
      "\n",
      "sports\n",
      "\n",
      "Texto: \n",
      "\n",
      "Adobe's India-born CEO Shantanu Narayen has topped Comparably's list of the 25 best CEOs of large US companies rated by female employees. He's followed by Farmers Insurance CEO Jeffrey Dailey, Medallia's Leslie Stretch, and HubSpot's Brian Halligan. Microsoft CEO Satya Nadella ranks 9th on the list, Zoom's Eric Yuan 16th and IBM's Arvind Krishna ranks 17th on the list.\n",
      "\n",
      "Qual nota você dá para o texto?\n",
      "\n",
      "2\n",
      "\n",
      "Obrigado pela Avaliação. \n",
      "\n",
      "Deseja ler outro texto?\n",
      "\n",
      "sim\n",
      "\n",
      "Qual tema você deseja escolher para leitura?\n",
      "\n",
      "politics\n",
      "\n",
      "Texto: \n",
      "\n",
      "The 'Contact Us' section of the Indore Police website was hacked on Tuesday and objectionable content about Prime Minister Narendra Modi along with slogans like \"free Kashmir\" were posted on it, officials said. One 'Muhammad Bilal Team PCE' claimed to have hacked the website. A senior police official said the accused will be held soon. \n",
      "\n",
      "Qual nota você dá para o texto?\n",
      "\n",
      "4\n",
      "\n",
      "Obrigado pela Avaliação. \n",
      "\n",
      "Deseja ler outro texto?\n",
      "\n",
      "sim\n",
      "\n",
      "Qual tema você deseja escolher para leitura?\n",
      "\n",
      "technology\n",
      "\n",
      "Texto: \n",
      "\n",
      "SpaceX CEO Elon Musk has paid a $10,000 (around ₹7.5 lakh) deposit to Richard Branson's Virgin Galactic to book a $250,000 (₹1.86 crore) space flight ticket. Branson confirmed this to The Sunday Times, however, he said a date has not been set yet. \"Elon's a friend and maybe I'll travel on one of his ships one day,\" Branson said.\n",
      "\n",
      "Qual nota você dá para o texto?\n",
      "\n",
      "5\n",
      "\n",
      "Obrigado pela Avaliação. \n",
      "\n",
      "Deseja ler outro texto?\n",
      "\n",
      "não\n",
      "\n",
      "Agradecemos o uso do sistema e até breve!\n"
     ]
    }
   ],
   "source": [
    "# fazendo a recomendação e avaliação, iremos pedir um texto de cada categoria e analisar.\n",
    "\n",
    "recomenda1.recomendacao(0)"
   ]
  },
  {
   "cell_type": "markdown",
   "id": "9d1231b7",
   "metadata": {},
   "source": [
    "### As recomendações baseadas nos clusters estão muito boas, é claro que podemos melhorar muito essa parte, principalmente se tratando de layout, porém já temos uma ideia de como o sistema funciona, vamos ver agora a tabela de recomendações"
   ]
  },
  {
   "cell_type": "code",
   "execution_count": 52,
   "id": "371a60bf",
   "metadata": {},
   "outputs": [
    {
     "data": {
      "text/html": [
       "<div>\n",
       "<style scoped>\n",
       "    .dataframe tbody tr th:only-of-type {\n",
       "        vertical-align: middle;\n",
       "    }\n",
       "\n",
       "    .dataframe tbody tr th {\n",
       "        vertical-align: top;\n",
       "    }\n",
       "\n",
       "    .dataframe thead th {\n",
       "        text-align: right;\n",
       "    }\n",
       "</style>\n",
       "<table border=\"1\" class=\"dataframe\">\n",
       "  <thead>\n",
       "    <tr style=\"text-align: right;\">\n",
       "      <th></th>\n",
       "      <th>Usuário</th>\n",
       "      <th>0</th>\n",
       "      <th>1</th>\n",
       "      <th>2</th>\n",
       "      <th>3</th>\n",
       "      <th>4</th>\n",
       "      <th>5</th>\n",
       "      <th>6</th>\n",
       "      <th>7</th>\n",
       "      <th>8</th>\n",
       "      <th>...</th>\n",
       "      <th>65</th>\n",
       "      <th>66</th>\n",
       "      <th>67</th>\n",
       "      <th>68</th>\n",
       "      <th>69</th>\n",
       "      <th>70</th>\n",
       "      <th>71</th>\n",
       "      <th>72</th>\n",
       "      <th>73</th>\n",
       "      <th>74</th>\n",
       "    </tr>\n",
       "  </thead>\n",
       "  <tbody>\n",
       "    <tr>\n",
       "      <th>0</th>\n",
       "      <td>0</td>\n",
       "      <td>NaN</td>\n",
       "      <td>NaN</td>\n",
       "      <td>NaN</td>\n",
       "      <td>NaN</td>\n",
       "      <td>NaN</td>\n",
       "      <td>NaN</td>\n",
       "      <td>NaN</td>\n",
       "      <td>NaN</td>\n",
       "      <td>NaN</td>\n",
       "      <td>...</td>\n",
       "      <td>NaN</td>\n",
       "      <td>NaN</td>\n",
       "      <td>NaN</td>\n",
       "      <td>NaN</td>\n",
       "      <td>NaN</td>\n",
       "      <td>NaN</td>\n",
       "      <td>NaN</td>\n",
       "      <td>NaN</td>\n",
       "      <td>NaN</td>\n",
       "      <td>NaN</td>\n",
       "    </tr>\n",
       "    <tr>\n",
       "      <th>1</th>\n",
       "      <td>luan</td>\n",
       "      <td>NaN</td>\n",
       "      <td>NaN</td>\n",
       "      <td>5.0</td>\n",
       "      <td>NaN</td>\n",
       "      <td>NaN</td>\n",
       "      <td>2.0</td>\n",
       "      <td>NaN</td>\n",
       "      <td>NaN</td>\n",
       "      <td>NaN</td>\n",
       "      <td>...</td>\n",
       "      <td>NaN</td>\n",
       "      <td>NaN</td>\n",
       "      <td>NaN</td>\n",
       "      <td>NaN</td>\n",
       "      <td>NaN</td>\n",
       "      <td>NaN</td>\n",
       "      <td>NaN</td>\n",
       "      <td>NaN</td>\n",
       "      <td>NaN</td>\n",
       "      <td>NaN</td>\n",
       "    </tr>\n",
       "  </tbody>\n",
       "</table>\n",
       "<p>2 rows × 76 columns</p>\n",
       "</div>"
      ],
      "text/plain": [
       "  Usuário   0   1    2   3   4    5   6   7   8  ...  65  66  67  68  69  70  \\\n",
       "0       0 NaN NaN  NaN NaN NaN  NaN NaN NaN NaN  ... NaN NaN NaN NaN NaN NaN   \n",
       "1    luan NaN NaN  5.0 NaN NaN  2.0 NaN NaN NaN  ... NaN NaN NaN NaN NaN NaN   \n",
       "\n",
       "   71  72  73  74  \n",
       "0 NaN NaN NaN NaN  \n",
       "1 NaN NaN NaN NaN  \n",
       "\n",
       "[2 rows x 76 columns]"
      ]
     },
     "execution_count": 52,
     "metadata": {},
     "output_type": "execute_result"
    }
   ],
   "source": [
    "recomenda1.tabelaRecomendação"
   ]
  },
  {
   "cell_type": "code",
   "execution_count": 53,
   "id": "d7d0242a",
   "metadata": {},
   "outputs": [
    {
     "data": {
      "text/plain": [
       "11.0"
      ]
     },
     "execution_count": 53,
     "metadata": {},
     "output_type": "execute_result"
    }
   ],
   "source": [
    "# somando os valores da linha do usuário criado\n",
    "\n",
    "recomenda1.tabelaRecomendação.iloc[1,1:].sum()"
   ]
  },
  {
   "cell_type": "markdown",
   "id": "31231fd7",
   "metadata": {},
   "source": [
    "Temos exatamente a soma das notas dadas pelo usuário, vamos então encontrar essas colunas especificas."
   ]
  },
  {
   "cell_type": "code",
   "execution_count": 54,
   "id": "7578e34e",
   "metadata": {},
   "outputs": [
    {
     "data": {
      "text/plain": [
       "5     2.0\n",
       "19    4.0\n",
       "2     5.0\n",
       "0     NaN\n",
       "1     NaN\n",
       "     ... \n",
       "70    NaN\n",
       "71    NaN\n",
       "72    NaN\n",
       "73    NaN\n",
       "74    NaN\n",
       "Name: 1, Length: 75, dtype: object"
      ]
     },
     "execution_count": 54,
     "metadata": {},
     "output_type": "execute_result"
    }
   ],
   "source": [
    "recomenda1.tabelaRecomendação.iloc[1,1:].sort_values()"
   ]
  },
  {
   "cell_type": "markdown",
   "id": "221577f0",
   "metadata": {},
   "source": [
    "Encontramos então os textos com suas notas.\n",
    "\n",
    "Como já dito, esse sistema é bem simples e muito pode ser melhorado, porém mais uma vez também, a ideia aqui é mostrar a possibilidade de crar um sistema de recomendação de textos, tendo como base uma clusterização feita depois de um redimensionamento de textos vetorizados."
   ]
  },
  {
   "cell_type": "markdown",
   "id": "076cfd0d",
   "metadata": {},
   "source": [
    "_________________________________________________________________________________________\n",
    "\n",
    "# Classificação\n",
    " \n",
    "Para finalizar vamos fazer mais uma coisa, agora iremos trabalhar com classificação, nesse caso, o usuário não pede um tema, e sim ao contrário, ele insere um texto, e o algoritmo retorna em qual das três categorias o texto se encontra.\n",
    "\n",
    "Nesse caso o algoritmo vai receber o texto do usuario, fazer todo o pré-processamento nesse texto, e depois da vetorização, comparar a distancia dele com os centros dos clusters, e por fim, retornar a classificação do texto.\n",
    "\n",
    "### Antes de criar a função, vamos fazer um passo a passo com um exemplo, peguei um texto curto do site da nba e vamos tentar classifica-lo."
   ]
  },
  {
   "cell_type": "code",
   "execution_count": 55,
   "id": "83b6282e",
   "metadata": {},
   "outputs": [
    {
     "data": {
      "text/plain": [
       "'You saw the box score, the team-high 31 points in the Suns’ 118-108 win. But it’s the timeliness and impact of Booker’s production that lifts him to the top spot in this latest installment of our NBA Finals MVP Ladder.'"
      ]
     },
     "execution_count": 55,
     "metadata": {},
     "output_type": "execute_result"
    }
   ],
   "source": [
    "teste = \"You saw the box score, the team-high 31 points in the Suns’ 118-108 win. But it’s the timeliness and impact of Booker’s production that lifts him to the top spot in this latest installment of our NBA Finals MVP Ladder.\"\n",
    "\n",
    "teste"
   ]
  },
  {
   "cell_type": "code",
   "execution_count": 56,
   "id": "8cb80968",
   "metadata": {},
   "outputs": [],
   "source": [
    "# fazendo o pré-processamento\n",
    "\n",
    "textoProcessado = preprocess_text(teste)"
   ]
  },
  {
   "cell_type": "code",
   "execution_count": 57,
   "id": "28bde78c",
   "metadata": {},
   "outputs": [
    {
     "name": "stdout",
     "output_type": "stream",
     "text": [
      "['saw', 'box', 'score', 'team', 'high', 'points', 'suns', 'win', 'timeliness', 'impact', 'booker', 'production', 'lifts', 'spot', 'latest', 'installment', 'nba', 'finals', 'mvp', 'ladder']\n"
     ]
    }
   ],
   "source": [
    "print(textoProcessado)"
   ]
  },
  {
   "cell_type": "code",
   "execution_count": 58,
   "id": "cfc81292",
   "metadata": {},
   "outputs": [],
   "source": [
    "# vetorizando o texto\n",
    "\n",
    "matrix = np.empty([len(textoProcessado), 300])\n",
    "for idx, word in enumerate(textoProcessado):\n",
    "         matrix[idx,:] = vec(word)\n",
    "final_feature_matrix = np.empty([1, 300])\n",
    "final_feature_matrix = matrix.mean(axis = 0).reshape(1,-1)"
   ]
  },
  {
   "cell_type": "code",
   "execution_count": 59,
   "id": "85f1947d",
   "metadata": {},
   "outputs": [],
   "source": [
    "# aplicando o ICA que treinamos na nossa classe criada mais acima\n",
    "\n",
    "principalComponents = prepro1.ica.transform(final_feature_matrix)"
   ]
  },
  {
   "cell_type": "code",
   "execution_count": 60,
   "id": "4d60370c",
   "metadata": {},
   "outputs": [
    {
     "data": {
      "text/plain": [
       "array([[ 0.00440325, -0.2222488 ]])"
      ]
     },
     "execution_count": 60,
     "metadata": {},
     "output_type": "execute_result"
    }
   ],
   "source": [
    "principalComponents"
   ]
  },
  {
   "cell_type": "code",
   "execution_count": 61,
   "id": "fabb66b6",
   "metadata": {},
   "outputs": [
    {
     "data": {
      "text/plain": [
       "[0.13871568028633122, 0.36629871185931967, 0.24294419657972588]"
      ]
     },
     "execution_count": 61,
     "metadata": {},
     "output_type": "execute_result"
    }
   ],
   "source": [
    "# gora vamos calcular a distancia da componente do meu texto a cada um dos centros dos clusters\n",
    "\n",
    "d1 = dist(principalComponents[0], centros[0])\n",
    "d2 = dist(principalComponents[0], centros[1])\n",
    "d3 = dist(principalComponents[0], centros[2])\n",
    "\n",
    "[d1, d2, d3]"
   ]
  },
  {
   "cell_type": "markdown",
   "id": "6650522c",
   "metadata": {},
   "source": [
    "Note que o ponto está mais perto do centro de label 0, que como já vimos mais acima, representa o agrupamento da categoria 'sports', portanto, temos um bom resultado.\n",
    "\n",
    "Vamos ver graficamente."
   ]
  },
  {
   "cell_type": "code",
   "execution_count": 62,
   "id": "4d6c80bf",
   "metadata": {},
   "outputs": [
    {
     "data": {
      "image/png": "[encoded data removed]",
      "text/plain": [
       "<Figure size 864x576 with 1 Axes>"
      ]
     },
     "metadata": {
      "needs_background": "light"
     },
     "output_type": "display_data"
    }
   ],
   "source": [
    "principalDf = pd.DataFrame(data = prepro1.principalComponents\n",
    "             ,columns = ['principal component 1', 'principal component 2'])\n",
    "\n",
    "sports = principalDf[prepro1.kmeans.labels_ == 0].reset_index()\n",
    "politics = principalDf[prepro1.kmeans.labels_ == 1].reset_index()\n",
    "technology = principalDf[prepro1.kmeans.labels_ == 2].reset_index()\n",
    "\n",
    "\n",
    "plt.figure(figsize = [12,8])\n",
    "plt.title('Agrupamento pelo KMeans')\n",
    "plt.scatter(sports['principal component 1'], sports['principal component 2'],  \n",
    "            c = 'blue', label = \"Sports\")\n",
    "plt.scatter(politics['principal component 1'], politics['principal component 2'],  \n",
    "            c = 'yellow', label = \"Politics\")  \n",
    "plt.scatter(technology['principal component 1'], technology['principal component 2'],  \n",
    "            c = 'green', label = \"Technology\")  \n",
    "\n",
    "plt.scatter(principalComponents[0][0], principalComponents[0][1], c = 'red', s = 200, label = 'Texto')\n",
    "for centr in prepro1.kmeans.cluster_centers_:\n",
    "    plt.scatter(centr[0], centr[1], s = 100, marker = 'x', c = 'black', lw = 7)\n",
    "plt.legend()\n",
    "plt.show()"
   ]
  },
  {
   "cell_type": "markdown",
   "id": "1866748b",
   "metadata": {},
   "source": [
    "Conseguimos comprovar graficamente o que já tinhamos visto anteriormente.\n",
    "\n",
    "Um ponto interessante é que conseguimos transformar todo nosso texto em um vetor com 2 coordenadas e com essas duas coordenadas, o algoritmo consegue encontrar a categoria dele.\n",
    "\n",
    "Para finalizar, vamos criar uma função para fazer essa classificação e testar com alguns textos."
   ]
  },
  {
   "cell_type": "code",
   "execution_count": 63,
   "id": "ae661273",
   "metadata": {},
   "outputs": [],
   "source": [
    "def classifi():\n",
    "    texto = input(\"Digite o texto no qual você quer classificar aqui: \\n\\n\")\n",
    "    textoProcessado = preprocess_text(texto)\n",
    "    matrix = np.empty([len(textoProcessado), 300])\n",
    "    for idx, word in enumerate(textoProcessado):\n",
    "         matrix[idx,:] = vec(word)\n",
    "    final_feature_matrix = np.empty([1, 300])\n",
    "    final_feature_matrix = matrix.mean(axis = 0).reshape(1,-1)\n",
    "    principalComponents = prepro1.ica.transform(final_feature_matrix)\n",
    "    d1 = dist(principalComponents[0], centros[0])\n",
    "    d2 = dist(principalComponents[0], centros[1])\n",
    "    d3 = dist(principalComponents[0], centros[2])\n",
    "    lista = [d1,d2,d3]\n",
    "    cluster = np.argmin(lista)\n",
    "    if cluster == 0:\n",
    "        print(\"\\nO seu texto fala sobre Esportes\")\n",
    "    if cluster == 1:\n",
    "        print(\"\\nO seu texto fala sobre Politica\")\n",
    "    if cluster == 2:\n",
    "        print(\"\\nO seu texto fala sobre Tecnologia\")"
   ]
  },
  {
   "cell_type": "code",
   "execution_count": 64,
   "id": "b1c9fa30",
   "metadata": {},
   "outputs": [
    {
     "name": "stdout",
     "output_type": "stream",
     "text": [
      "Digite o texto no qual você quer classificar aqui: \n",
      "\n",
      "You saw the box score, the team-high 31 points in the Suns’ 118-108 win. But it’s the timeliness and impact of Booker’s production that lifts him to the top spot in this latest installment of our NBA Finals MVP Ladder\n",
      "\n",
      "O seu texto fala sobre Esportes\n"
     ]
    }
   ],
   "source": [
    "# vamos começar com o texto que usamos acima\n",
    "\n",
    "classifi()"
   ]
  },
  {
   "cell_type": "code",
   "execution_count": 65,
   "id": "90bb16e3",
   "metadata": {},
   "outputs": [
    {
     "name": "stdout",
     "output_type": "stream",
     "text": [
      "Digite o texto no qual você quer classificar aqui: \n",
      "\n",
      "Created by British designer Thomas Heatherwick, it is hoped the Airo will go into production in China in 2023, with plans to make a million of them.\n",
      "\n",
      "O seu texto fala sobre Tecnologia\n"
     ]
    }
   ],
   "source": [
    "# agora um texto sobre a criação de um carro \n",
    "\n",
    "classifi()"
   ]
  },
  {
   "cell_type": "code",
   "execution_count": 66,
   "id": "44c9d5ba",
   "metadata": {
    "scrolled": false
   },
   "outputs": [
    {
     "name": "stdout",
     "output_type": "stream",
     "text": [
      "Digite o texto no qual você quer classificar aqui: \n",
      "\n",
      "But Moscow denied US claims they had contacted the Russians repeatedly about the cyber-attacks in the past month.\n",
      "\n",
      "O seu texto fala sobre Tecnologia\n"
     ]
    }
   ],
   "source": [
    "# mais um exemplo\n",
    "\n",
    "classifi()"
   ]
  },
  {
   "cell_type": "markdown",
   "id": "c28aecef",
   "metadata": {},
   "source": [
    "Vamos fazer um último exemplo, com alguma noticia sobre política mundial."
   ]
  },
  {
   "cell_type": "code",
   "execution_count": 67,
   "id": "47a4710e",
   "metadata": {},
   "outputs": [
    {
     "name": "stdout",
     "output_type": "stream",
     "text": [
      "Digite o texto no qual você quer classificar aqui: \n",
      "\n",
      "The younger Biden's business dealings in Ukraine, China and elsewhere have often been held up by Republican critics as a conflict of interest for his father, which both Bidens deny.\n",
      "\n",
      "O seu texto fala sobre Politica\n"
     ]
    }
   ],
   "source": [
    "classifi()"
   ]
  },
  {
   "cell_type": "markdown",
   "id": "cc271e2c",
   "metadata": {},
   "source": [
    "#### Temos então mais um acerto na nossa classificação.\n",
    "\n",
    "Agora precisamos colocar nosso modelo em produção, faremos isso em outros arquivos, vamos salvar os dois modelso que treinamos nesse notebook, o kmeans e o ICA com n = 3, além de salvar também o dataset com a coluna de dados tokenizada e as componentes da vetorização feita nele."
   ]
  },
  {
   "cell_type": "code",
   "execution_count": 68,
   "id": "6f1064bd",
   "metadata": {},
   "outputs": [
    {
     "data": {
      "text/html": [
       "<div>\n",
       "<style scoped>\n",
       "    .dataframe tbody tr th:only-of-type {\n",
       "        vertical-align: middle;\n",
       "    }\n",
       "\n",
       "    .dataframe tbody tr th {\n",
       "        vertical-align: top;\n",
       "    }\n",
       "\n",
       "    .dataframe thead th {\n",
       "        text-align: right;\n",
       "    }\n",
       "</style>\n",
       "<table border=\"1\" class=\"dataframe\">\n",
       "  <thead>\n",
       "    <tr style=\"text-align: right;\">\n",
       "      <th></th>\n",
       "      <th>labels</th>\n",
       "    </tr>\n",
       "  </thead>\n",
       "  <tbody>\n",
       "    <tr>\n",
       "      <th>0</th>\n",
       "      <td>2</td>\n",
       "    </tr>\n",
       "    <tr>\n",
       "      <th>1</th>\n",
       "      <td>2</td>\n",
       "    </tr>\n",
       "    <tr>\n",
       "      <th>2</th>\n",
       "      <td>2</td>\n",
       "    </tr>\n",
       "    <tr>\n",
       "      <th>3</th>\n",
       "      <td>2</td>\n",
       "    </tr>\n",
       "    <tr>\n",
       "      <th>4</th>\n",
       "      <td>2</td>\n",
       "    </tr>\n",
       "    <tr>\n",
       "      <th>...</th>\n",
       "      <td>...</td>\n",
       "    </tr>\n",
       "    <tr>\n",
       "      <th>70</th>\n",
       "      <td>2</td>\n",
       "    </tr>\n",
       "    <tr>\n",
       "      <th>71</th>\n",
       "      <td>2</td>\n",
       "    </tr>\n",
       "    <tr>\n",
       "      <th>72</th>\n",
       "      <td>1</td>\n",
       "    </tr>\n",
       "    <tr>\n",
       "      <th>73</th>\n",
       "      <td>2</td>\n",
       "    </tr>\n",
       "    <tr>\n",
       "      <th>74</th>\n",
       "      <td>1</td>\n",
       "    </tr>\n",
       "  </tbody>\n",
       "</table>\n",
       "<p>75 rows × 1 columns</p>\n",
       "</div>"
      ],
      "text/plain": [
       "    labels\n",
       "0        2\n",
       "1        2\n",
       "2        2\n",
       "3        2\n",
       "4        2\n",
       "..     ...\n",
       "70       2\n",
       "71       2\n",
       "72       1\n",
       "73       2\n",
       "74       1\n",
       "\n",
       "[75 rows x 1 columns]"
      ]
     },
     "execution_count": 68,
     "metadata": {},
     "output_type": "execute_result"
    }
   ],
   "source": [
    "labels = pd.DataFrame(data = prepro1.kmeans.labels_, columns = ['labels'])\n",
    "\n",
    "labels"
   ]
  },
  {
   "cell_type": "code",
   "execution_count": 69,
   "id": "0688752b",
   "metadata": {},
   "outputs": [
    {
     "data": {
      "text/plain": [
       "(75, 7)"
      ]
     },
     "execution_count": 69,
     "metadata": {},
     "output_type": "execute_result"
    }
   ],
   "source": [
    "Dataset_textos = pd.concat([news_df,principalDf,labels], axis = 1)\n",
    "\n",
    "Dataset_textos.shape"
   ]
  },
  {
   "cell_type": "code",
   "execution_count": 70,
   "id": "7911a823",
   "metadata": {},
   "outputs": [],
   "source": [
    "Dataset_textos.to_csv('DatasetTextos.csv')"
   ]
  },
  {
   "cell_type": "markdown",
   "id": "201af73f",
   "metadata": {},
   "source": [
    "Ao salvar o dataset com as novas colunas, já estamos salvando as componentes do redimensionamento e a classificação feita pelo kmeans."
   ]
  },
  {
   "cell_type": "code",
   "execution_count": 72,
   "id": "f5f1265f",
   "metadata": {},
   "outputs": [],
   "source": [
    "from joblib import dump, load"
   ]
  },
  {
   "cell_type": "code",
   "execution_count": 73,
   "id": "90b92785",
   "metadata": {},
   "outputs": [
    {
     "data": {
      "text/plain": [
       "['kmeans.pkl']"
      ]
     },
     "execution_count": 73,
     "metadata": {},
     "output_type": "execute_result"
    }
   ],
   "source": [
    "dump(prepro1.ica, 'ICA_n2.pkl')\n",
    "dump(prepro1.kmeans, 'kmeans.pkl')"
   ]
  },
  {
   "cell_type": "markdown",
   "id": "f33bf107",
   "metadata": {},
   "source": [
    "#### Finalizamos aqui esse notebook, com toda a teoria que precisamos explicada e feita, além dos modelos salvos, agora vamos colocar o modelo em produção."
   ]
  },
  {
   "cell_type": "code",
   "execution_count": null,
   "id": "59179eed",
   "metadata": {},
   "outputs": [],
   "source": []
  }
 ],
 "metadata": {
  "kernelspec": {
   "display_name": "Python 3",
   "language": "python",
   "name": "python3"
  },
  "language_info": {
   "codemirror_mode": {
    "name": "ipython",
    "version": 3
   },
   "file_extension": ".py",
   "mimetype": "text/x-python",
   "name": "python",
   "nbconvert_exporter": "python",
   "pygments_lexer": "ipython3",
   "version": "3.8.8"
  },
  "varInspector": {
   "cols": {
    "lenName": 16,
    "lenType": 16,
    "lenVar": 40
   },
   "kernels_config": {
    "python": {
     "delete_cmd_postfix": "",
     "delete_cmd_prefix": "del ",
     "library": "var_list.py",
     "varRefreshCmd": "print(var_dic_list())"
    },
    "r": {
     "delete_cmd_postfix": ") ",
     "delete_cmd_prefix": "rm(",
     "library": "var_list.r",
     "varRefreshCmd": "cat(var_dic_list()) "
    }
   },
   "types_to_exclude": [
    "module",
    "function",
    "builtin_function_or_method",
    "instance",
    "_Feature"
   ],
   "window_display": false
  }
 },
 "nbformat": 4,
 "nbformat_minor": 5
}
